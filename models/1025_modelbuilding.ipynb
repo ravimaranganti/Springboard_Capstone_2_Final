{
 "cells": [
  {
   "cell_type": "code",
   "execution_count": 1,
   "metadata": {},
   "outputs": [
    {
     "name": "stderr",
     "output_type": "stream",
     "text": [
      "Using TensorFlow backend.\n"
     ]
    }
   ],
   "source": [
    "import numpy as np\n",
    "import os\n",
    "import matplotlib.pyplot as plt\n",
    "from collections import Counter\n",
    "from time import time\n",
    "import datetime\n",
    "\n",
    "from sklearn.metrics import classification_report, confusion_matrix\n",
    "from sklearn.model_selection import train_test_split\n",
    "\n",
    "from keras.callbacks import ModelCheckpoint, TensorBoard, EarlyStopping\n",
    "from keras.utils import to_categorical, plot_model\n",
    "from keras import backend as K\n",
    "from resnet_0919 import ResNet\n",
    "from simple_models_0911 import light_cnn, deep_cnn2\n",
    "\n",
    "%matplotlib inline"
   ]
  },
  {
   "cell_type": "code",
   "execution_count": 2,
   "metadata": {},
   "outputs": [],
   "source": [
    "\"\"\"\n",
    "Reading all the inputs \n",
    "1. Log Spectrogram\n",
    "2. Mel Spectrogram \n",
    "3. MFCCs \n",
    "\"\"\"\n",
    "x_train_logspec = np.load('../../../train/x_train.npy')\n",
    "x_train_melspec = np.load('../../../train/x_train_melspec.npy')\n",
    "x_train_mfcc = np.load('../../../train/x_train_mfcc.npy')\n",
    "x_train_mfcc_delta = np.load('../../../train/x_train_mfcc_delta.npy')\n",
    "x_train_mfcc_delta2 = np.load('../../../train/x_train_mfcc_delta2.npy')\n",
    "\n",
    "y_train = np.load('../../../train/y_train.npy')"
   ]
  },
  {
   "cell_type": "code",
   "execution_count": 3,
   "metadata": {},
   "outputs": [
    {
     "name": "stdout",
     "output_type": "stream",
     "text": [
      "['yes', 'no', 'up', 'down', 'left', 'right', 'on', 'off', 'stop', 'go', 'silence', 'bed', 'one', 'sheila', 'two', 'wow', 'marvin', 'four', 'house', 'nine', 'bird', 'eight', 'three', 'dog', '_background_noise_', 'seven', 'cat', 'happy', 'six', 'five', 'tree', 'zero']\n"
     ]
    }
   ],
   "source": [
    "classes = ['yes', 'no', \n",
    "           'up', 'down', \n",
    "           'left', 'right', \n",
    "           'on', 'off', \n",
    "           'stop', 'go', \n",
    "           'silence', 'unknown']\n",
    "\n",
    "all_classes = [x for x in classes[:11]]\n",
    "for ind, cl in enumerate(os.listdir('../../../train/audio/')):\n",
    "    if cl not in classes:\n",
    "        all_classes.append(cl)\n",
    "print(all_classes)"
   ]
  },
  {
   "cell_type": "code",
   "execution_count": 4,
   "metadata": {},
   "outputs": [],
   "source": [
    "\"\"\"\n",
    "There is quite a bit of class imbalance in our data so we are going to calculate class_weights and use it while model fitting\n",
    "\"\"\"\n",
    "def get_class_weights(y):\n",
    "    counter = Counter(y)\n",
    "    majority = max(counter.values())\n",
    "    return  {cls: float(majority/count) for cls, count in counter.items()}  \n",
    "\n",
    "class_weights = get_class_weights(y_train)"
   ]
  },
  {
   "cell_type": "code",
   "execution_count": 5,
   "metadata": {},
   "outputs": [
    {
     "data": {
      "text/plain": [
       "{11: 1.0,\n",
       " 7: 17.337980566117448,\n",
       " 6: 17.337980566117448,\n",
       " 8: 17.24327731092437,\n",
       " 4: 17.27957894736842,\n",
       " 5: 17.41154009333899,\n",
       " 0: 6.839833333333333,\n",
       " 9: 17.27957894736842,\n",
       " 10: 17.26503996634413,\n",
       " 2: 17.301433389544687,\n",
       " 3: 17.44113897152571,\n",
       " 1: 17.396778295888087}"
      ]
     },
     "execution_count": 5,
     "metadata": {},
     "output_type": "execute_result"
    }
   ],
   "source": [
    "class_weights"
   ]
  },
  {
   "cell_type": "code",
   "execution_count": 6,
   "metadata": {},
   "outputs": [
    {
     "data": {
      "text/plain": [
       "(70721, 99, 161, 1)"
      ]
     },
     "execution_count": 6,
     "metadata": {},
     "output_type": "execute_result"
    }
   ],
   "source": [
    "\"\"\"\n",
    "Checking if our inputs are in the correct shape. \n",
    "\"\"\"\n",
    "x_train_logspec.shape"
   ]
  },
  {
   "cell_type": "code",
   "execution_count": 7,
   "metadata": {},
   "outputs": [],
   "source": [
    "x_train_melspec=x_train_melspec.reshape(tuple(list(x_train_melspec.shape)+[1]))"
   ]
  },
  {
   "cell_type": "code",
   "execution_count": 8,
   "metadata": {},
   "outputs": [
    {
     "data": {
      "text/plain": [
       "(70721, 128, 32, 1)"
      ]
     },
     "execution_count": 8,
     "metadata": {},
     "output_type": "execute_result"
    }
   ],
   "source": [
    "x_train_melspec.shape # Seems ok"
   ]
  },
  {
   "cell_type": "code",
   "execution_count": 9,
   "metadata": {},
   "outputs": [
    {
     "data": {
      "text/plain": [
       "(70721, 13, 32)"
      ]
     },
     "execution_count": 9,
     "metadata": {},
     "output_type": "execute_result"
    }
   ],
   "source": [
    "x_train_mfcc.shape"
   ]
  },
  {
   "cell_type": "code",
   "execution_count": 10,
   "metadata": {},
   "outputs": [],
   "source": [
    "\"\"\"\n",
    "We will stack the mfccs and the deltas into one input \n",
    "\"\"\"\n",
    "x_train_mfcc_new = np.stack((x_train_mfcc, x_train_mfcc_delta,x_train_mfcc_delta2), axis = -1) "
   ]
  },
  {
   "cell_type": "code",
   "execution_count": 11,
   "metadata": {},
   "outputs": [
    {
     "data": {
      "text/plain": [
       "(70721, 13, 32, 3)"
      ]
     },
     "execution_count": 11,
     "metadata": {},
     "output_type": "execute_result"
    }
   ],
   "source": [
    "x_train_mfcc_new.shape # seems ok"
   ]
  },
  {
   "cell_type": "code",
   "execution_count": 19,
   "metadata": {},
   "outputs": [],
   "source": [
    "def build_model(input_type,filter_item=[8,16,32],nn_arch):\n",
    "    y_train = np.load('../../../train/y_train.npy')\n",
    "    batch_size = 64\n",
    "    output_size = 12\n",
    "    d= datetime.datetime.today()\n",
    "    if input_type=='log':\n",
    "        input_spec= x_train_logspec\n",
    "    elif input_type=='mel':\n",
    "        input_spec = x_train_melspec\n",
    "    else: \n",
    "        input_spec= x_train_mfcc_new\n",
    "    date = str(d.month)+'_'+str(d.day)\n",
    "    arch = input_type+str(nn_arch)+'_'+str(filter_item)\n",
    "    input_size = input_spec.shape[1:]\n",
    "    if nn_arch=='Resnet':\n",
    "        sr = ResNet(filter_item, input_size, output_size)\n",
    "    if nn_arch == 'light_cnn':\n",
    "        sr = light_cnn(input_size, output_size)\n",
    "    if nn_arch == 'deep_cnn':\n",
    "        sr = deep_cnn2(input_size, output_size)\n",
    "    sr.build()\n",
    "    sr.m.compile(loss='categorical_crossentropy', optimizer='adadelta', metrics=['accuracy'])\n",
    "        # to save a png of the model you need pydot and graphviz installed\n",
    "    plot_model(sr.m, to_file = '{}_{}.png'.format(arch,date), show_shapes = True)\n",
    "        #callbacks, remember to make folders to store files \n",
    "    checkpointer = ModelCheckpoint(filepath='{}_{}_best.h5'.format(arch, date),verbose=0,save_best_only=True)\n",
    "   \n",
    "    earlystopping = EarlyStopping()\n",
    "\n",
    "    tensorboard = TensorBoard(log_dir = '{}_{}'.format(date, time()), histogram_freq = 0, write_graph = True, write_images = True)\n",
    "    x_train, x_val, y_train, y_val = train_test_split(input_spec, y_train, test_size=0.1, random_state=2017)\n",
    "    history = sr.m.fit(x_train, \n",
    "                   to_categorical(y_train), \n",
    "                   batch_size = batch_size, \n",
    "                   epochs = 20, \n",
    "                   verbose = 1, shuffle = True, \n",
    "                   class_weight = class_weights,\n",
    "                   validation_data = (x_val, to_categorical(y_val)), \n",
    "                   callbacks = [checkpointer, tensorboard]) # add more callbacks if you want\n",
    "    sr.m.save(arch+'.model')\n",
    "    "
   ]
  },
  {
   "cell_type": "markdown",
   "metadata": {},
   "source": [
    "## 1. Resnet Model with Log Spec Data and [8,16,32] sequence of filters"
   ]
  },
  {
   "cell_type": "code",
   "execution_count": 20,
   "metadata": {},
   "outputs": [
    {
     "name": "stderr",
     "output_type": "stream",
     "text": [
      "WARNING: Logging before flag parsing goes to stderr.\n",
      "W1025 22:17:42.552090 139667592652544 deprecation_wrapper.py:119] From /home/ubuntu/anaconda3/envs/tensorflow_p36/lib/python3.6/site-packages/keras/backend/tensorflow_backend.py:517: The name tf.placeholder is deprecated. Please use tf.compat.v1.placeholder instead.\n",
      "\n",
      "W1025 22:17:42.581441 139667592652544 deprecation_wrapper.py:119] From /home/ubuntu/anaconda3/envs/tensorflow_p36/lib/python3.6/site-packages/keras/backend/tensorflow_backend.py:74: The name tf.get_default_graph is deprecated. Please use tf.compat.v1.get_default_graph instead.\n",
      "\n",
      "W1025 22:17:42.583403 139667592652544 deprecation_wrapper.py:119] From /home/ubuntu/anaconda3/envs/tensorflow_p36/lib/python3.6/site-packages/keras/backend/tensorflow_backend.py:4138: The name tf.random_uniform is deprecated. Please use tf.random.uniform instead.\n",
      "\n",
      "W1025 22:17:42.602551 139667592652544 deprecation_wrapper.py:119] From /home/ubuntu/anaconda3/envs/tensorflow_p36/lib/python3.6/site-packages/keras/backend/tensorflow_backend.py:3976: The name tf.nn.max_pool is deprecated. Please use tf.nn.max_pool2d instead.\n",
      "\n",
      "W1025 22:17:42.617560 139667592652544 deprecation_wrapper.py:119] From /home/ubuntu/anaconda3/envs/tensorflow_p36/lib/python3.6/site-packages/keras/backend/tensorflow_backend.py:174: The name tf.get_default_session is deprecated. Please use tf.compat.v1.get_default_session instead.\n",
      "\n",
      "W1025 22:17:42.618181 139667592652544 deprecation_wrapper.py:119] From /home/ubuntu/anaconda3/envs/tensorflow_p36/lib/python3.6/site-packages/keras/backend/tensorflow_backend.py:181: The name tf.ConfigProto is deprecated. Please use tf.compat.v1.ConfigProto instead.\n",
      "\n",
      "W1025 22:17:45.814505 139667592652544 deprecation_wrapper.py:119] From /home/ubuntu/anaconda3/envs/tensorflow_p36/lib/python3.6/site-packages/keras/backend/tensorflow_backend.py:1834: The name tf.nn.fused_batch_norm is deprecated. Please use tf.compat.v1.nn.fused_batch_norm instead.\n",
      "\n",
      "W1025 22:17:47.513772 139667592652544 deprecation_wrapper.py:119] From /home/ubuntu/anaconda3/envs/tensorflow_p36/lib/python3.6/site-packages/keras/optimizers.py:790: The name tf.train.Optimizer is deprecated. Please use tf.compat.v1.train.Optimizer instead.\n",
      "\n",
      "W1025 22:17:52.848465 139667592652544 deprecation.py:323] From /home/ubuntu/anaconda3/envs/tensorflow_p36/lib/python3.6/site-packages/tensorflow/python/ops/math_grad.py:1250: add_dispatch_support.<locals>.wrapper (from tensorflow.python.ops.array_ops) is deprecated and will be removed in a future version.\n",
      "Instructions for updating:\n",
      "Use tf.where in 2.0, which has the same broadcast rule as np.where\n"
     ]
    },
    {
     "name": "stdout",
     "output_type": "stream",
     "text": [
      "Train on 63648 samples, validate on 7073 samples\n"
     ]
    },
    {
     "name": "stderr",
     "output_type": "stream",
     "text": [
      "W1025 22:17:57.612882 139667592652544 deprecation_wrapper.py:119] From /home/ubuntu/anaconda3/envs/tensorflow_p36/lib/python3.6/site-packages/keras/callbacks.py:850: The name tf.summary.merge_all is deprecated. Please use tf.compat.v1.summary.merge_all instead.\n",
      "\n",
      "W1025 22:17:57.613982 139667592652544 deprecation_wrapper.py:119] From /home/ubuntu/anaconda3/envs/tensorflow_p36/lib/python3.6/site-packages/keras/callbacks.py:853: The name tf.summary.FileWriter is deprecated. Please use tf.compat.v1.summary.FileWriter instead.\n",
      "\n"
     ]
    },
    {
     "name": "stdout",
     "output_type": "stream",
     "text": [
      "Epoch 1/20\n",
      "63648/63648 [==============================] - 105s 2ms/step - loss: 6.3438 - acc: 0.5508 - val_loss: 0.7830 - val_acc: 0.7944\n",
      "Epoch 2/20\n",
      "63648/63648 [==============================] - 99s 2ms/step - loss: 2.1867 - acc: 0.8215 - val_loss: 1.1077 - val_acc: 0.7001\n",
      "Epoch 3/20\n",
      "63648/63648 [==============================] - 99s 2ms/step - loss: 1.5558 - acc: 0.8771 - val_loss: 0.2847 - val_acc: 0.9088\n",
      "Epoch 4/20\n",
      "63648/63648 [==============================] - 99s 2ms/step - loss: 1.2523 - acc: 0.9035 - val_loss: 0.2893 - val_acc: 0.9075\n",
      "Epoch 5/20\n",
      "63648/63648 [==============================] - 99s 2ms/step - loss: 1.0815 - acc: 0.9158 - val_loss: 0.2011 - val_acc: 0.9314\n",
      "Epoch 6/20\n",
      "63648/63648 [==============================] - 99s 2ms/step - loss: 0.9523 - acc: 0.9274 - val_loss: 0.3386 - val_acc: 0.8983\n",
      "Epoch 7/20\n",
      "63648/63648 [==============================] - 99s 2ms/step - loss: 0.8411 - acc: 0.9344 - val_loss: 0.3808 - val_acc: 0.8797\n",
      "Epoch 8/20\n",
      "63648/63648 [==============================] - 99s 2ms/step - loss: 0.7855 - acc: 0.9376 - val_loss: 0.2106 - val_acc: 0.9330\n",
      "Epoch 9/20\n",
      "63648/63648 [==============================] - 99s 2ms/step - loss: 0.7158 - acc: 0.9411 - val_loss: 0.1749 - val_acc: 0.9429\n",
      "Epoch 10/20\n",
      "63648/63648 [==============================] - 99s 2ms/step - loss: 0.6596 - acc: 0.9476 - val_loss: 0.2312 - val_acc: 0.9303\n",
      "Epoch 11/20\n",
      "63648/63648 [==============================] - 99s 2ms/step - loss: 0.6090 - acc: 0.9501 - val_loss: 0.4619 - val_acc: 0.8575\n",
      "Epoch 12/20\n",
      "63648/63648 [==============================] - 99s 2ms/step - loss: 0.5723 - acc: 0.9524 - val_loss: 0.1976 - val_acc: 0.9501\n",
      "Epoch 13/20\n",
      "63648/63648 [==============================] - 99s 2ms/step - loss: 0.5610 - acc: 0.9546 - val_loss: 0.3528 - val_acc: 0.8982\n",
      "Epoch 14/20\n",
      "63648/63648 [==============================] - 99s 2ms/step - loss: 0.5061 - acc: 0.9588 - val_loss: 0.2330 - val_acc: 0.9344\n",
      "Epoch 15/20\n",
      "63648/63648 [==============================] - 99s 2ms/step - loss: 0.4796 - acc: 0.9600 - val_loss: 0.3499 - val_acc: 0.9067\n",
      "Epoch 16/20\n",
      "63648/63648 [==============================] - 99s 2ms/step - loss: 0.4650 - acc: 0.9614 - val_loss: 0.2129 - val_acc: 0.9434\n",
      "Epoch 17/20\n",
      "63648/63648 [==============================] - 99s 2ms/step - loss: 0.4320 - acc: 0.9640 - val_loss: 0.2711 - val_acc: 0.9357\n",
      "Epoch 18/20\n",
      "63648/63648 [==============================] - 100s 2ms/step - loss: 0.4220 - acc: 0.9657 - val_loss: 0.1490 - val_acc: 0.9543\n",
      "Epoch 19/20\n",
      "63648/63648 [==============================] - 100s 2ms/step - loss: 0.4065 - acc: 0.9668 - val_loss: 0.1465 - val_acc: 0.9618\n",
      "Epoch 20/20\n",
      "63648/63648 [==============================] - 99s 2ms/step - loss: 0.3943 - acc: 0.9682 - val_loss: 0.2395 - val_acc: 0.9328\n"
     ]
    }
   ],
   "source": [
    "\"\"\" Building Resnet Model with Log Spec Data and [8,16,32] sequence of filters \"\"\"\n",
    "build_model('log',[8,16,32],'Resnet')"
   ]
  },
  {
   "cell_type": "markdown",
   "metadata": {},
   "source": [
    "## 2. Resnet Model with Log Spec Data and [16,32,64] sequence of filters"
   ]
  },
  {
   "cell_type": "code",
   "execution_count": 21,
   "metadata": {},
   "outputs": [
    {
     "name": "stdout",
     "output_type": "stream",
     "text": [
      "Train on 63648 samples, validate on 7073 samples\n",
      "Epoch 1/20\n",
      "63648/63648 [==============================] - 175s 3ms/step - loss: 6.4113 - acc: 0.5699 - val_loss: 4.6274 - val_acc: 0.2203\n",
      "Epoch 2/20\n",
      "63648/63648 [==============================] - 172s 3ms/step - loss: 1.9431 - acc: 0.8443 - val_loss: 0.4144 - val_acc: 0.8917\n",
      "Epoch 3/20\n",
      "63648/63648 [==============================] - 172s 3ms/step - loss: 1.4343 - acc: 0.8866 - val_loss: 0.7828 - val_acc: 0.7326\n",
      "Epoch 4/20\n",
      "63648/63648 [==============================] - 172s 3ms/step - loss: 1.1622 - acc: 0.9068 - val_loss: 0.4890 - val_acc: 0.8582\n",
      "Epoch 5/20\n",
      "63648/63648 [==============================] - 172s 3ms/step - loss: 1.0052 - acc: 0.9252 - val_loss: 0.5501 - val_acc: 0.8302\n",
      "Epoch 6/20\n",
      "63648/63648 [==============================] - 172s 3ms/step - loss: 0.8541 - acc: 0.9359 - val_loss: 0.3442 - val_acc: 0.8767\n",
      "Epoch 7/20\n",
      "63648/63648 [==============================] - 172s 3ms/step - loss: 0.7528 - acc: 0.9429 - val_loss: 0.1236 - val_acc: 0.9635\n",
      "Epoch 8/20\n",
      "63648/63648 [==============================] - 172s 3ms/step - loss: 0.6794 - acc: 0.9484 - val_loss: 0.1518 - val_acc: 0.9549\n",
      "Epoch 9/20\n",
      "63648/63648 [==============================] - 172s 3ms/step - loss: 0.6063 - acc: 0.9526 - val_loss: 0.1410 - val_acc: 0.9525\n",
      "Epoch 10/20\n",
      "63648/63648 [==============================] - 172s 3ms/step - loss: 0.5690 - acc: 0.9553 - val_loss: 0.4892 - val_acc: 0.8808\n",
      "Epoch 11/20\n",
      "63648/63648 [==============================] - 172s 3ms/step - loss: 0.5324 - acc: 0.9591 - val_loss: 0.1656 - val_acc: 0.9439\n",
      "Epoch 12/20\n",
      "63648/63648 [==============================] - 172s 3ms/step - loss: 0.4725 - acc: 0.9638 - val_loss: 0.2217 - val_acc: 0.9320\n",
      "Epoch 13/20\n",
      "63648/63648 [==============================] - 172s 3ms/step - loss: 0.4291 - acc: 0.9654 - val_loss: 0.4926 - val_acc: 0.8616\n",
      "Epoch 14/20\n",
      "63648/63648 [==============================] - 172s 3ms/step - loss: 0.4229 - acc: 0.9664 - val_loss: 0.3928 - val_acc: 0.8767\n",
      "Epoch 15/20\n",
      "63648/63648 [==============================] - 172s 3ms/step - loss: 0.4030 - acc: 0.9696 - val_loss: 0.6007 - val_acc: 0.9056\n",
      "Epoch 16/20\n",
      "63648/63648 [==============================] - 172s 3ms/step - loss: 0.3967 - acc: 0.9683 - val_loss: 0.2076 - val_acc: 0.9317\n",
      "Epoch 17/20\n",
      "63648/63648 [==============================] - 172s 3ms/step - loss: 0.3386 - acc: 0.9734 - val_loss: 0.1522 - val_acc: 0.9538\n",
      "Epoch 18/20\n",
      "63648/63648 [==============================] - 172s 3ms/step - loss: 0.3326 - acc: 0.9726 - val_loss: 0.4294 - val_acc: 0.8938\n",
      "Epoch 19/20\n",
      "63648/63648 [==============================] - 172s 3ms/step - loss: 0.3247 - acc: 0.9748 - val_loss: 0.1747 - val_acc: 0.9580\n",
      "Epoch 20/20\n",
      "63648/63648 [==============================] - 172s 3ms/step - loss: 0.3130 - acc: 0.9752 - val_loss: 0.1766 - val_acc: 0.9485\n"
     ]
    }
   ],
   "source": [
    "\"\"\" Building Resnet Model with Log Spec Data and [8,16,32] sequence of filters \"\"\"\n",
    "build_model('log',[16,32,64],'Resnet')"
   ]
  },
  {
   "cell_type": "markdown",
   "metadata": {},
   "source": [
    "## 3. Resnet Model with Mel Spec Data and [8,16,32] sequence of filters"
   ]
  },
  {
   "cell_type": "code",
   "execution_count": 22,
   "metadata": {},
   "outputs": [
    {
     "name": "stdout",
     "output_type": "stream",
     "text": [
      "Train on 63648 samples, validate on 7073 samples\n",
      "Epoch 1/20\n",
      "63648/63648 [==============================] - 45s 709us/step - loss: 10.1855 - acc: 0.3733 - val_loss: 1.2113 - val_acc: 0.6157\n",
      "Epoch 2/20\n",
      "63648/63648 [==============================] - 42s 657us/step - loss: 3.8613 - acc: 0.6805 - val_loss: 0.8038 - val_acc: 0.7828\n",
      "Epoch 3/20\n",
      "63648/63648 [==============================] - 41s 652us/step - loss: 2.7189 - acc: 0.7705 - val_loss: 0.5941 - val_acc: 0.8089\n",
      "Epoch 4/20\n",
      "63648/63648 [==============================] - 41s 652us/step - loss: 2.1895 - acc: 0.8179 - val_loss: 0.7597 - val_acc: 0.7359\n",
      "Epoch 5/20\n",
      "63648/63648 [==============================] - 41s 652us/step - loss: 1.8344 - acc: 0.8476 - val_loss: 0.3512 - val_acc: 0.8842\n",
      "Epoch 6/20\n",
      "63648/63648 [==============================] - 42s 655us/step - loss: 1.6021 - acc: 0.8658 - val_loss: 0.7684 - val_acc: 0.7704\n",
      "Epoch 7/20\n",
      "63648/63648 [==============================] - 41s 652us/step - loss: 1.3883 - acc: 0.8842 - val_loss: 0.4882 - val_acc: 0.8473\n",
      "Epoch 8/20\n",
      "63648/63648 [==============================] - 42s 652us/step - loss: 1.2394 - acc: 0.8941 - val_loss: 0.4081 - val_acc: 0.8679\n",
      "Epoch 9/20\n",
      "63648/63648 [==============================] - 41s 650us/step - loss: 1.1165 - acc: 0.9029 - val_loss: 0.6052 - val_acc: 0.8001\n",
      "Epoch 10/20\n",
      "63648/63648 [==============================] - 42s 665us/step - loss: 1.0176 - acc: 0.9111 - val_loss: 0.5058 - val_acc: 0.8499\n",
      "Epoch 11/20\n",
      "63648/63648 [==============================] - 42s 652us/step - loss: 0.9217 - acc: 0.9183 - val_loss: 0.3607 - val_acc: 0.8859\n",
      "Epoch 12/20\n",
      "63648/63648 [==============================] - 42s 653us/step - loss: 0.8275 - acc: 0.9234 - val_loss: 0.3528 - val_acc: 0.8845\n",
      "Epoch 13/20\n",
      "63648/63648 [==============================] - 42s 656us/step - loss: 0.7813 - acc: 0.9268 - val_loss: 0.3532 - val_acc: 0.9023\n",
      "Epoch 14/20\n",
      "63648/63648 [==============================] - 42s 657us/step - loss: 0.7061 - acc: 0.9314 - val_loss: 0.2870 - val_acc: 0.9101\n",
      "Epoch 15/20\n",
      "63648/63648 [==============================] - 42s 658us/step - loss: 0.6379 - acc: 0.9355 - val_loss: 0.2647 - val_acc: 0.9245\n",
      "Epoch 16/20\n",
      "63648/63648 [==============================] - 42s 664us/step - loss: 0.6075 - acc: 0.9384 - val_loss: 0.3563 - val_acc: 0.8927\n",
      "Epoch 17/20\n",
      "63648/63648 [==============================] - 42s 659us/step - loss: 0.5418 - acc: 0.9457 - val_loss: 0.2447 - val_acc: 0.9283\n",
      "Epoch 18/20\n",
      "63648/63648 [==============================] - 42s 662us/step - loss: 0.5317 - acc: 0.9443 - val_loss: 0.2599 - val_acc: 0.9311\n",
      "Epoch 19/20\n",
      "63648/63648 [==============================] - 42s 664us/step - loss: 0.4560 - acc: 0.9493 - val_loss: 0.4243 - val_acc: 0.8739\n",
      "Epoch 20/20\n",
      "63648/63648 [==============================] - 42s 663us/step - loss: 0.4432 - acc: 0.9520 - val_loss: 0.3754 - val_acc: 0.8996\n"
     ]
    }
   ],
   "source": [
    "\"\"\" Building Resnet Model with Mel Spec Data and [8,16,32] sequence of filters \"\"\"\n",
    "build_model('mel',[8,16,32],'Resnet')"
   ]
  },
  {
   "cell_type": "markdown",
   "metadata": {},
   "source": [
    "## 4. Resnet Model with Mel Spec Data and [16,32,64] sequence of filters"
   ]
  },
  {
   "cell_type": "code",
   "execution_count": 23,
   "metadata": {},
   "outputs": [
    {
     "name": "stdout",
     "output_type": "stream",
     "text": [
      "Train on 63648 samples, validate on 7073 samples\n",
      "Epoch 1/20\n",
      "63648/63648 [==============================] - 72s 1ms/step - loss: 9.1192 - acc: 0.4213 - val_loss: 1.4146 - val_acc: 0.5528\n",
      "Epoch 2/20\n",
      "63648/63648 [==============================] - 68s 1ms/step - loss: 3.1739 - acc: 0.7381 - val_loss: 1.2156 - val_acc: 0.6037\n",
      "Epoch 3/20\n",
      "63648/63648 [==============================] - 67s 1ms/step - loss: 2.1842 - acc: 0.8252 - val_loss: 0.5797 - val_acc: 0.8159\n",
      "Epoch 4/20\n",
      "63648/63648 [==============================] - 67s 1ms/step - loss: 1.7023 - acc: 0.8622 - val_loss: 1.7804 - val_acc: 0.5746\n",
      "Epoch 5/20\n",
      "63648/63648 [==============================] - 68s 1ms/step - loss: 1.3766 - acc: 0.8853 - val_loss: 0.6488 - val_acc: 0.7850\n",
      "Epoch 6/20\n",
      "63648/63648 [==============================] - 68s 1ms/step - loss: 1.2058 - acc: 0.9022 - val_loss: 0.3868 - val_acc: 0.8735\n",
      "Epoch 7/20\n",
      "63648/63648 [==============================] - 68s 1ms/step - loss: 1.0395 - acc: 0.9144 - val_loss: 0.2217 - val_acc: 0.9299\n",
      "Epoch 8/20\n",
      "63648/63648 [==============================] - 68s 1ms/step - loss: 0.8934 - acc: 0.9253 - val_loss: 0.4970 - val_acc: 0.8653\n",
      "Epoch 9/20\n",
      "63648/63648 [==============================] - 67s 1ms/step - loss: 0.7917 - acc: 0.9314 - val_loss: 0.4429 - val_acc: 0.8694\n",
      "Epoch 10/20\n",
      "63648/63648 [==============================] - 67s 1ms/step - loss: 0.7083 - acc: 0.9370 - val_loss: 0.3118 - val_acc: 0.9142\n",
      "Epoch 11/20\n",
      "63648/63648 [==============================] - 67s 1ms/step - loss: 0.6342 - acc: 0.9415 - val_loss: 0.3000 - val_acc: 0.9081\n",
      "Epoch 12/20\n",
      "63648/63648 [==============================] - 68s 1ms/step - loss: 0.5696 - acc: 0.9484 - val_loss: 0.3015 - val_acc: 0.9191\n",
      "Epoch 13/20\n",
      "63648/63648 [==============================] - 68s 1ms/step - loss: 0.5065 - acc: 0.9514 - val_loss: 1.2750 - val_acc: 0.6976\n",
      "Epoch 14/20\n",
      "63648/63648 [==============================] - 69s 1ms/step - loss: 0.4766 - acc: 0.9531 - val_loss: 0.1954 - val_acc: 0.9477\n",
      "Epoch 15/20\n",
      "63648/63648 [==============================] - 68s 1ms/step - loss: 0.4105 - acc: 0.9581 - val_loss: 0.2649 - val_acc: 0.9196\n",
      "Epoch 16/20\n",
      "63648/63648 [==============================] - 68s 1ms/step - loss: 0.3782 - acc: 0.9597 - val_loss: 0.2621 - val_acc: 0.9340\n",
      "Epoch 17/20\n",
      "63648/63648 [==============================] - 68s 1ms/step - loss: 0.3430 - acc: 0.9627 - val_loss: 0.5574 - val_acc: 0.8422\n",
      "Epoch 18/20\n",
      "63648/63648 [==============================] - 68s 1ms/step - loss: 0.3000 - acc: 0.9657 - val_loss: 0.2189 - val_acc: 0.9405\n",
      "Epoch 19/20\n",
      "63648/63648 [==============================] - 68s 1ms/step - loss: 0.2781 - acc: 0.9685 - val_loss: 0.2493 - val_acc: 0.9446\n",
      "Epoch 20/20\n",
      "63648/63648 [==============================] - 67s 1ms/step - loss: 0.2630 - acc: 0.9698 - val_loss: 0.3206 - val_acc: 0.9126\n"
     ]
    }
   ],
   "source": [
    "\"\"\" Building Resnet Model with Mel Spec Data and [16,32,64] sequence of filters \"\"\"\n",
    "build_model('mel',[16,32,64],'Resnet')"
   ]
  },
  {
   "cell_type": "markdown",
   "metadata": {},
   "source": [
    "## 5. Resnet Model with MFCC Data and [8,16,32] sequence of filters"
   ]
  },
  {
   "cell_type": "code",
   "execution_count": 24,
   "metadata": {},
   "outputs": [
    {
     "name": "stdout",
     "output_type": "stream",
     "text": [
      "Train on 63648 samples, validate on 7073 samples\n",
      "Epoch 1/20\n",
      "63648/63648 [==============================] - 40s 629us/step - loss: 7.1522 - acc: 0.5699 - val_loss: 0.8896 - val_acc: 0.6915\n",
      "Epoch 2/20\n",
      "63648/63648 [==============================] - 36s 562us/step - loss: 3.2869 - acc: 0.7451 - val_loss: 0.8272 - val_acc: 0.7209\n",
      "Epoch 3/20\n",
      "63648/63648 [==============================] - 36s 564us/step - loss: 2.5787 - acc: 0.8001 - val_loss: 0.8656 - val_acc: 0.7171\n",
      "Epoch 4/20\n",
      "63648/63648 [==============================] - 36s 563us/step - loss: 2.1634 - acc: 0.8289 - val_loss: 0.5477 - val_acc: 0.8180\n",
      "Epoch 5/20\n",
      "63648/63648 [==============================] - 36s 568us/step - loss: 1.8790 - acc: 0.8455 - val_loss: 0.3194 - val_acc: 0.8950\n",
      "Epoch 6/20\n",
      "63648/63648 [==============================] - 36s 568us/step - loss: 1.6663 - acc: 0.8660 - val_loss: 0.3935 - val_acc: 0.8750\n",
      "Epoch 7/20\n",
      "63648/63648 [==============================] - 36s 568us/step - loss: 1.5032 - acc: 0.8743 - val_loss: 0.5758 - val_acc: 0.8217\n",
      "Epoch 8/20\n",
      "63648/63648 [==============================] - 37s 577us/step - loss: 1.3148 - acc: 0.8871 - val_loss: 0.5130 - val_acc: 0.8330\n",
      "Epoch 9/20\n",
      "63648/63648 [==============================] - 36s 567us/step - loss: 1.2170 - acc: 0.8922 - val_loss: 0.5474 - val_acc: 0.8391\n",
      "Epoch 10/20\n",
      "63648/63648 [==============================] - 37s 577us/step - loss: 1.1235 - acc: 0.8997 - val_loss: 0.3464 - val_acc: 0.8952\n",
      "Epoch 11/20\n",
      "63648/63648 [==============================] - 36s 570us/step - loss: 1.0208 - acc: 0.9051 - val_loss: 0.3147 - val_acc: 0.9091\n",
      "Epoch 12/20\n",
      "63648/63648 [==============================] - 37s 576us/step - loss: 0.9254 - acc: 0.9114 - val_loss: 0.3575 - val_acc: 0.8935\n",
      "Epoch 13/20\n",
      "63648/63648 [==============================] - 37s 581us/step - loss: 0.8516 - acc: 0.9161 - val_loss: 0.3440 - val_acc: 0.9024\n",
      "Epoch 14/20\n",
      "63648/63648 [==============================] - 36s 569us/step - loss: 0.7726 - acc: 0.9213 - val_loss: 0.3530 - val_acc: 0.9044\n",
      "Epoch 15/20\n",
      "63648/63648 [==============================] - 36s 570us/step - loss: 0.7110 - acc: 0.9253 - val_loss: 0.3657 - val_acc: 0.8983\n",
      "Epoch 16/20\n",
      "63648/63648 [==============================] - 36s 570us/step - loss: 0.6688 - acc: 0.9269 - val_loss: 0.3381 - val_acc: 0.9056\n",
      "Epoch 17/20\n",
      "63648/63648 [==============================] - 36s 568us/step - loss: 0.6176 - acc: 0.9353 - val_loss: 0.4510 - val_acc: 0.8753\n",
      "Epoch 18/20\n",
      "63648/63648 [==============================] - 36s 570us/step - loss: 0.5626 - acc: 0.9364 - val_loss: 0.3607 - val_acc: 0.9060\n",
      "Epoch 19/20\n",
      "63648/63648 [==============================] - 36s 570us/step - loss: 0.5570 - acc: 0.9375 - val_loss: 0.4390 - val_acc: 0.8786\n",
      "Epoch 20/20\n",
      "63648/63648 [==============================] - 36s 561us/step - loss: 0.4818 - acc: 0.9416 - val_loss: 0.3968 - val_acc: 0.8920\n"
     ]
    }
   ],
   "source": [
    "\"\"\" Building Resnet Model with MFCC Data and [8,16,32] sequence of filters \"\"\"\n",
    "build_model('mfcc',[8,16,32],'Resnet')"
   ]
  },
  {
   "cell_type": "markdown",
   "metadata": {},
   "source": [
    "## 6. Resnet Model with MFCC Data and [16,32,64] sequence of filters"
   ]
  },
  {
   "cell_type": "code",
   "execution_count": 25,
   "metadata": {},
   "outputs": [
    {
     "name": "stdout",
     "output_type": "stream",
     "text": [
      "Train on 63648 samples, validate on 7073 samples\n",
      "Epoch 1/20\n",
      "63648/63648 [==============================] - 39s 612us/step - loss: 5.8573 - acc: 0.6424 - val_loss: 1.0382 - val_acc: 0.6765\n",
      "Epoch 2/20\n",
      "63648/63648 [==============================] - 36s 572us/step - loss: 2.5127 - acc: 0.8132 - val_loss: 0.5771 - val_acc: 0.8135\n",
      "Epoch 3/20\n",
      "63648/63648 [==============================] - 36s 559us/step - loss: 1.8061 - acc: 0.8637 - val_loss: 0.3813 - val_acc: 0.8817\n",
      "Epoch 4/20\n",
      "63648/63648 [==============================] - 36s 561us/step - loss: 1.4028 - acc: 0.8896 - val_loss: 0.3841 - val_acc: 0.8730\n",
      "Epoch 5/20\n",
      "63648/63648 [==============================] - 35s 545us/step - loss: 1.1769 - acc: 0.9043 - val_loss: 0.2516 - val_acc: 0.9207\n",
      "Epoch 6/20\n",
      "63648/63648 [==============================] - 35s 543us/step - loss: 0.9666 - acc: 0.9180 - val_loss: 0.2778 - val_acc: 0.9214\n",
      "Epoch 7/20\n",
      "63648/63648 [==============================] - 35s 553us/step - loss: 0.8221 - acc: 0.9277 - val_loss: 0.4554 - val_acc: 0.8643\n",
      "Epoch 8/20\n",
      "63648/63648 [==============================] - 35s 555us/step - loss: 0.6878 - acc: 0.9356 - val_loss: 0.2818 - val_acc: 0.9265\n",
      "Epoch 9/20\n",
      "63648/63648 [==============================] - 35s 549us/step - loss: 0.5893 - acc: 0.9422 - val_loss: 0.2371 - val_acc: 0.9355\n",
      "Epoch 10/20\n",
      "63648/63648 [==============================] - 35s 544us/step - loss: 0.5046 - acc: 0.9475 - val_loss: 0.2501 - val_acc: 0.9389\n",
      "Epoch 11/20\n",
      "63648/63648 [==============================] - 34s 540us/step - loss: 0.4252 - acc: 0.9548 - val_loss: 0.3072 - val_acc: 0.9273\n",
      "Epoch 12/20\n",
      "63648/63648 [==============================] - 35s 546us/step - loss: 0.3968 - acc: 0.9566 - val_loss: 0.2487 - val_acc: 0.9367\n",
      "Epoch 13/20\n",
      "63648/63648 [==============================] - 34s 539us/step - loss: 0.3340 - acc: 0.9621 - val_loss: 0.2585 - val_acc: 0.9361\n",
      "Epoch 14/20\n",
      "63648/63648 [==============================] - 34s 536us/step - loss: 0.2989 - acc: 0.9636 - val_loss: 0.2748 - val_acc: 0.9358\n",
      "Epoch 15/20\n",
      "63648/63648 [==============================] - 34s 537us/step - loss: 0.2920 - acc: 0.9663 - val_loss: 0.3064 - val_acc: 0.9239\n",
      "Epoch 16/20\n",
      "63648/63648 [==============================] - 35s 555us/step - loss: 0.2462 - acc: 0.9682 - val_loss: 0.2567 - val_acc: 0.9385\n",
      "Epoch 17/20\n",
      "63648/63648 [==============================] - 36s 560us/step - loss: 0.2235 - acc: 0.9718 - val_loss: 0.2588 - val_acc: 0.9415\n",
      "Epoch 18/20\n",
      "63648/63648 [==============================] - 35s 544us/step - loss: 0.2132 - acc: 0.9737 - val_loss: 0.2513 - val_acc: 0.9403\n",
      "Epoch 19/20\n",
      "63648/63648 [==============================] - 35s 542us/step - loss: 0.1905 - acc: 0.9755 - val_loss: 0.2454 - val_acc: 0.9426\n",
      "Epoch 20/20\n",
      "63648/63648 [==============================] - 35s 546us/step - loss: 0.2095 - acc: 0.9747 - val_loss: 0.2903 - val_acc: 0.9333\n"
     ]
    }
   ],
   "source": [
    "\"\"\" Building Resnet Model with MFCC Data and [16,32,64] sequence of filters \"\"\"\n",
    "build_model('mfcc',[16,32,64],'Resnet')"
   ]
  },
  {
   "cell_type": "markdown",
   "metadata": {},
   "source": [
    "<br/><br/><br/><br/><br/><br/>\n",
    "\n",
    "*******************************************\n",
    "\n",
    "# <span style=\"color:blue\"> Now we implement another approach where we only train on known labels and see if we can do some thresholding on the probability to deal with unknowns </span>\n",
    "\n",
    "*******************************************\n",
    "\n",
    "<br/><br/><br/><br/><br/><br/>\n"
   ]
  },
  {
   "cell_type": "code",
   "execution_count": 55,
   "metadata": {},
   "outputs": [],
   "source": [
    "def build_model_withoutunk(input_type,nn_arch,filter_item=[8,16,32]):\n",
    "    y_train = np.load('../../../train/y_train.npy')\n",
    "    batch_size = 64\n",
    "    output_size = 11\n",
    "    d= datetime.datetime.today()\n",
    "    if input_type=='log':\n",
    "        input_spec= x_train_logspec\n",
    "    elif input_type=='mel':\n",
    "        input_spec = x_train_melspec\n",
    "    else: \n",
    "        input_spec= x_train_mfcc_new\n",
    "    date = str(d.month)+'_'+str(d.day)\n",
    "    arch = input_type+'unk'+str(nn_arch)+'_'+str(filter_item)\n",
    "    \n",
    "    indexRemove = np.where(y_train==11)\n",
    "    input_spec = np.delete(input_spec, indexRemove, axis=0)\n",
    "    y_train = np.delete(y_train, indexRemove)\n",
    "    \n",
    "    input_size = input_spec.shape[1:]\n",
    "    if nn_arch=='Resnet':\n",
    "        sr = ResNet(filter_item, input_size, output_size)\n",
    "    if nn_arch == 'light_cnn':\n",
    "        sr = light_cnn(input_size, output_size)\n",
    "    if nn_arch == 'deep_cnn':\n",
    "        sr = deep_cnn2(input_size, output_size)\n",
    "    sr.build()\n",
    "    sr.m.compile(loss='categorical_crossentropy', optimizer='adadelta', metrics=['accuracy'])\n",
    "        # to save a png of the model you need pydot and graphviz installed\n",
    "    plot_model(sr.m, to_file = '{}_{}.png'.format(arch,date), show_shapes = True)\n",
    "        #callbacks, remember to make folders to store files \n",
    "    checkpointer = ModelCheckpoint(filepath='{}_{}_best.h5'.format(arch, date),verbose=0,save_best_only=True)\n",
    "   \n",
    "    earlystopping = EarlyStopping()\n",
    "    \n",
    "    tensorboard = TensorBoard(log_dir = '{}_{}'.format(date, time()), histogram_freq = 0, write_graph = True, write_images = True)\n",
    "    # Removing the unknown label data so that our network trains exclusively on known labels #\n",
    "    \n",
    "    x_train, x_val, y_train, y_val = train_test_split(input_spec, y_train, test_size=0.1, random_state=2017)\n",
    "    history = sr.m.fit(x_train, \n",
    "                   to_categorical(y_train), \n",
    "                   batch_size = batch_size, \n",
    "                   epochs = 20, \n",
    "                   verbose = 1, shuffle = True, \n",
    "                   #class_weight = class_weights,\n",
    "                   validation_data = (x_val, to_categorical(y_val)), \n",
    "                   callbacks = [checkpointer, tensorboard]) # add more callbacks if you want\n",
    "    sr.m.save(arch+'.model')"
   ]
  },
  {
   "cell_type": "markdown",
   "metadata": {},
   "source": [
    "# 1a.  Resnet Model with Log Spec Data and [8,16,32] sequence of filters with knowns only "
   ]
  },
  {
   "cell_type": "code",
   "execution_count": 56,
   "metadata": {},
   "outputs": [
    {
     "name": "stdout",
     "output_type": "stream",
     "text": [
      "Train on 26713 samples, validate on 2969 samples\n",
      "Epoch 1/20\n",
      "26713/26713 [==============================] - 46s 2ms/step - loss: 1.1354 - acc: 0.5981 - val_loss: 1.9047 - val_acc: 0.6063\n",
      "Epoch 2/20\n",
      "26713/26713 [==============================] - 42s 2ms/step - loss: 0.3077 - acc: 0.8995 - val_loss: 3.0180 - val_acc: 0.6319\n",
      "Epoch 3/20\n",
      "26713/26713 [==============================] - 42s 2ms/step - loss: 0.1964 - acc: 0.9370 - val_loss: 0.5732 - val_acc: 0.8377\n",
      "Epoch 4/20\n",
      "26713/26713 [==============================] - 42s 2ms/step - loss: 0.1526 - acc: 0.9504 - val_loss: 0.5724 - val_acc: 0.8360\n",
      "Epoch 5/20\n",
      "26713/26713 [==============================] - 42s 2ms/step - loss: 0.1319 - acc: 0.9579 - val_loss: 0.2102 - val_acc: 0.9333\n",
      "Epoch 6/20\n",
      "26713/26713 [==============================] - 42s 2ms/step - loss: 0.1175 - acc: 0.9607 - val_loss: 0.4214 - val_acc: 0.8794\n",
      "Epoch 7/20\n",
      "26713/26713 [==============================] - 42s 2ms/step - loss: 0.1030 - acc: 0.9651 - val_loss: 0.3439 - val_acc: 0.8956\n",
      "Epoch 8/20\n",
      "26713/26713 [==============================] - 42s 2ms/step - loss: 0.0938 - acc: 0.9689 - val_loss: 0.2115 - val_acc: 0.9333\n",
      "Epoch 9/20\n",
      "26713/26713 [==============================] - 42s 2ms/step - loss: 0.0854 - acc: 0.9704 - val_loss: 0.4350 - val_acc: 0.9013\n",
      "Epoch 10/20\n",
      "26713/26713 [==============================] - 42s 2ms/step - loss: 0.0790 - acc: 0.9727 - val_loss: 0.2475 - val_acc: 0.9326\n",
      "Epoch 11/20\n",
      "26713/26713 [==============================] - 42s 2ms/step - loss: 0.0732 - acc: 0.9761 - val_loss: 0.2226 - val_acc: 0.9404\n",
      "Epoch 12/20\n",
      "26713/26713 [==============================] - 42s 2ms/step - loss: 0.0692 - acc: 0.9765 - val_loss: 0.1851 - val_acc: 0.9478\n",
      "Epoch 13/20\n",
      "26713/26713 [==============================] - 42s 2ms/step - loss: 0.0649 - acc: 0.9780 - val_loss: 0.3364 - val_acc: 0.9097\n",
      "Epoch 14/20\n",
      "26713/26713 [==============================] - 42s 2ms/step - loss: 0.0582 - acc: 0.9802 - val_loss: 0.2079 - val_acc: 0.9451\n",
      "Epoch 15/20\n",
      "26713/26713 [==============================] - 42s 2ms/step - loss: 0.0594 - acc: 0.9791 - val_loss: 0.1586 - val_acc: 0.9512\n",
      "Epoch 16/20\n",
      "26713/26713 [==============================] - 42s 2ms/step - loss: 0.0543 - acc: 0.9814 - val_loss: 0.5452 - val_acc: 0.8663\n",
      "Epoch 17/20\n",
      "26713/26713 [==============================] - 42s 2ms/step - loss: 0.0507 - acc: 0.9826 - val_loss: 0.2789 - val_acc: 0.9316\n",
      "Epoch 18/20\n",
      "26713/26713 [==============================] - 42s 2ms/step - loss: 0.0474 - acc: 0.9829 - val_loss: 0.1497 - val_acc: 0.9572\n",
      "Epoch 19/20\n",
      "26713/26713 [==============================] - 42s 2ms/step - loss: 0.0460 - acc: 0.9839 - val_loss: 0.3211 - val_acc: 0.9279\n",
      "Epoch 20/20\n",
      "26713/26713 [==============================] - 42s 2ms/step - loss: 0.0430 - acc: 0.9849 - val_loss: 0.3197 - val_acc: 0.9333\n"
     ]
    }
   ],
   "source": [
    "\"\"\" Building Resnet Model with Log Spec Data and [8,16,32] sequence of filters with KNOWNS only \"\"\"\n",
    "build_model_withoutunk('log','Resnet',[8,16,32])"
   ]
  },
  {
   "cell_type": "markdown",
   "metadata": {},
   "source": [
    "# 2a.  Resnet Model with Log Spec Data and [16,32,64] sequence of filters with knowns only "
   ]
  },
  {
   "cell_type": "code",
   "execution_count": 57,
   "metadata": {},
   "outputs": [
    {
     "name": "stdout",
     "output_type": "stream",
     "text": [
      "Train on 26713 samples, validate on 2969 samples\n",
      "Epoch 1/20\n",
      "26713/26713 [==============================] - 77s 3ms/step - loss: 1.0110 - acc: 0.6499 - val_loss: 8.1367 - val_acc: 0.2560\n",
      "Epoch 2/20\n",
      "26713/26713 [==============================] - 73s 3ms/step - loss: 0.2566 - acc: 0.9163 - val_loss: 0.8908 - val_acc: 0.8164\n",
      "Epoch 3/20\n",
      "26713/26713 [==============================] - 73s 3ms/step - loss: 0.1666 - acc: 0.9460 - val_loss: 2.0874 - val_acc: 0.7363\n",
      "Epoch 4/20\n",
      "26713/26713 [==============================] - 73s 3ms/step - loss: 0.1373 - acc: 0.9556 - val_loss: 1.1244 - val_acc: 0.7359\n",
      "Epoch 5/20\n",
      "26713/26713 [==============================] - 73s 3ms/step - loss: 0.1161 - acc: 0.9625 - val_loss: 0.6157 - val_acc: 0.8528\n",
      "Epoch 6/20\n",
      "26713/26713 [==============================] - 73s 3ms/step - loss: 0.1042 - acc: 0.9655 - val_loss: 0.3944 - val_acc: 0.8804\n",
      "Epoch 7/20\n",
      "26713/26713 [==============================] - 73s 3ms/step - loss: 0.0858 - acc: 0.9727 - val_loss: 2.0139 - val_acc: 0.7612\n",
      "Epoch 8/20\n",
      "26713/26713 [==============================] - 73s 3ms/step - loss: 0.0790 - acc: 0.9737 - val_loss: 0.1440 - val_acc: 0.9586\n",
      "Epoch 9/20\n",
      "26713/26713 [==============================] - 73s 3ms/step - loss: 0.0774 - acc: 0.9738 - val_loss: 0.2508 - val_acc: 0.9347\n",
      "Epoch 10/20\n",
      "26713/26713 [==============================] - 73s 3ms/step - loss: 0.0660 - acc: 0.9766 - val_loss: 0.3070 - val_acc: 0.9347\n",
      "Epoch 11/20\n",
      "26713/26713 [==============================] - 73s 3ms/step - loss: 0.0635 - acc: 0.9784 - val_loss: 0.1465 - val_acc: 0.9562\n",
      "Epoch 12/20\n",
      "26713/26713 [==============================] - 73s 3ms/step - loss: 0.0605 - acc: 0.9796 - val_loss: 0.1858 - val_acc: 0.9485\n",
      "Epoch 13/20\n",
      "26713/26713 [==============================] - 73s 3ms/step - loss: 0.0524 - acc: 0.9822 - val_loss: 0.2403 - val_acc: 0.9461\n",
      "Epoch 14/20\n",
      "26713/26713 [==============================] - 73s 3ms/step - loss: 0.0515 - acc: 0.9822 - val_loss: 0.3571 - val_acc: 0.9155\n",
      "Epoch 15/20\n",
      "26713/26713 [==============================] - 73s 3ms/step - loss: 0.0475 - acc: 0.9835 - val_loss: 0.9600 - val_acc: 0.8464\n",
      "Epoch 16/20\n",
      "26713/26713 [==============================] - 73s 3ms/step - loss: 0.0446 - acc: 0.9848 - val_loss: 0.1639 - val_acc: 0.9555\n",
      "Epoch 17/20\n",
      "26713/26713 [==============================] - 73s 3ms/step - loss: 0.0435 - acc: 0.9852 - val_loss: 0.1301 - val_acc: 0.9623\n",
      "Epoch 18/20\n",
      "26713/26713 [==============================] - 73s 3ms/step - loss: 0.0408 - acc: 0.9858 - val_loss: 0.3348 - val_acc: 0.9350\n",
      "Epoch 19/20\n",
      "26713/26713 [==============================] - 73s 3ms/step - loss: 0.0366 - acc: 0.9873 - val_loss: 0.2166 - val_acc: 0.9485\n",
      "Epoch 20/20\n",
      "26713/26713 [==============================] - 73s 3ms/step - loss: 0.0375 - acc: 0.9877 - val_loss: 0.5526 - val_acc: 0.9087\n"
     ]
    }
   ],
   "source": [
    "\"\"\" Building Resnet Model with Log Spec Data and [16,32,64] sequence of filters with KNOWNS only \"\"\"\n",
    "build_model_withoutunk('log','Resnet',[16,32,64])"
   ]
  },
  {
   "cell_type": "markdown",
   "metadata": {},
   "source": [
    "# 3a.  Resnet Model with Mel Spec Data and [8,16,32] sequence of filters with knowns only "
   ]
  },
  {
   "cell_type": "code",
   "execution_count": 59,
   "metadata": {},
   "outputs": [
    {
     "name": "stdout",
     "output_type": "stream",
     "text": [
      "Train on 26713 samples, validate on 2969 samples\n",
      "Epoch 1/20\n",
      "26713/26713 [==============================] - 23s 860us/step - loss: 1.7219 - acc: 0.4548 - val_loss: 2.4178 - val_acc: 0.4055\n",
      "Epoch 2/20\n",
      "26713/26713 [==============================] - 18s 688us/step - loss: 0.7945 - acc: 0.7237 - val_loss: 2.8695 - val_acc: 0.4453\n",
      "Epoch 3/20\n",
      "26713/26713 [==============================] - 18s 683us/step - loss: 0.4418 - acc: 0.8512 - val_loss: 0.9719 - val_acc: 0.7181\n",
      "Epoch 4/20\n",
      "26713/26713 [==============================] - 18s 685us/step - loss: 0.3194 - acc: 0.8938 - val_loss: 0.4298 - val_acc: 0.8572\n",
      "Epoch 5/20\n",
      "26713/26713 [==============================] - 18s 689us/step - loss: 0.2581 - acc: 0.9154 - val_loss: 0.5998 - val_acc: 0.8296\n",
      "Epoch 6/20\n",
      "26713/26713 [==============================] - 18s 684us/step - loss: 0.2174 - acc: 0.9273 - val_loss: 0.3183 - val_acc: 0.8949\n",
      "Epoch 7/20\n",
      "26713/26713 [==============================] - 18s 687us/step - loss: 0.1894 - acc: 0.9368 - val_loss: 0.4113 - val_acc: 0.8723\n",
      "Epoch 8/20\n",
      "26713/26713 [==============================] - 18s 685us/step - loss: 0.1659 - acc: 0.9438 - val_loss: 0.4170 - val_acc: 0.8845\n",
      "Epoch 9/20\n",
      "26713/26713 [==============================] - 18s 684us/step - loss: 0.1486 - acc: 0.9520 - val_loss: 0.2898 - val_acc: 0.9101\n",
      "Epoch 10/20\n",
      "26713/26713 [==============================] - 19s 707us/step - loss: 0.1355 - acc: 0.9549 - val_loss: 0.4845 - val_acc: 0.8589\n",
      "Epoch 11/20\n",
      "26713/26713 [==============================] - 19s 712us/step - loss: 0.1217 - acc: 0.9588 - val_loss: 0.3414 - val_acc: 0.8919\n",
      "Epoch 12/20\n",
      "26713/26713 [==============================] - 19s 701us/step - loss: 0.1089 - acc: 0.9637 - val_loss: 0.6777 - val_acc: 0.8366\n",
      "Epoch 13/20\n",
      "26713/26713 [==============================] - 19s 697us/step - loss: 0.1001 - acc: 0.9650 - val_loss: 0.5138 - val_acc: 0.8727\n",
      "Epoch 14/20\n",
      "26713/26713 [==============================] - 19s 705us/step - loss: 0.0959 - acc: 0.9673 - val_loss: 0.4581 - val_acc: 0.8734\n",
      "Epoch 15/20\n",
      "26713/26713 [==============================] - 19s 697us/step - loss: 0.0836 - acc: 0.9711 - val_loss: 0.4392 - val_acc: 0.8878\n",
      "Epoch 16/20\n",
      "26713/26713 [==============================] - 19s 701us/step - loss: 0.0756 - acc: 0.9752 - val_loss: 2.6087 - val_acc: 0.6433\n",
      "Epoch 17/20\n",
      "26713/26713 [==============================] - 18s 685us/step - loss: 0.0674 - acc: 0.9773 - val_loss: 0.2390 - val_acc: 0.9370\n",
      "Epoch 18/20\n",
      "26713/26713 [==============================] - 18s 685us/step - loss: 0.0629 - acc: 0.9790 - val_loss: 0.3851 - val_acc: 0.9043\n",
      "Epoch 19/20\n",
      "26713/26713 [==============================] - 18s 686us/step - loss: 0.0590 - acc: 0.9793 - val_loss: 0.3860 - val_acc: 0.9037\n",
      "Epoch 20/20\n",
      "26713/26713 [==============================] - 18s 684us/step - loss: 0.0561 - acc: 0.9803 - val_loss: 0.3959 - val_acc: 0.9054\n"
     ]
    }
   ],
   "source": [
    "\"\"\" Building Resnet Model with Mel Spec Data and [8,16,32] sequence of filters with KNOWNS only \"\"\"\n",
    "build_model_withoutunk('mel','Resnet',[8,16,32])"
   ]
  },
  {
   "cell_type": "markdown",
   "metadata": {},
   "source": [
    "# 4a Resnet Model with Mel Spec Data and [16,32,64] sequence of filters with knowns only"
   ]
  },
  {
   "cell_type": "code",
   "execution_count": 60,
   "metadata": {},
   "outputs": [
    {
     "name": "stdout",
     "output_type": "stream",
     "text": [
      "Train on 26713 samples, validate on 2969 samples\n",
      "Epoch 1/20\n",
      "26713/26713 [==============================] - 34s 1ms/step - loss: 1.1791 - acc: 0.6053 - val_loss: 8.2847 - val_acc: 0.3594\n",
      "Epoch 2/20\n",
      "26713/26713 [==============================] - 29s 1ms/step - loss: 0.3590 - acc: 0.8795 - val_loss: 0.5096 - val_acc: 0.8501\n",
      "Epoch 3/20\n",
      "26713/26713 [==============================] - 29s 1ms/step - loss: 0.2474 - acc: 0.9186 - val_loss: 0.6909 - val_acc: 0.8067\n",
      "Epoch 4/20\n",
      "26713/26713 [==============================] - 29s 1ms/step - loss: 0.1869 - acc: 0.9386 - val_loss: 0.3905 - val_acc: 0.8909\n",
      "Epoch 5/20\n",
      "26713/26713 [==============================] - 29s 1ms/step - loss: 0.1558 - acc: 0.9498 - val_loss: 0.7290 - val_acc: 0.8141\n",
      "Epoch 6/20\n",
      "26713/26713 [==============================] - 29s 1ms/step - loss: 0.1327 - acc: 0.9557 - val_loss: 0.3759 - val_acc: 0.8942\n",
      "Epoch 7/20\n",
      "26713/26713 [==============================] - 29s 1ms/step - loss: 0.1145 - acc: 0.9620 - val_loss: 0.2117 - val_acc: 0.9370\n",
      "Epoch 8/20\n",
      "26713/26713 [==============================] - 29s 1ms/step - loss: 0.0996 - acc: 0.9664 - val_loss: 0.5559 - val_acc: 0.8363\n",
      "Epoch 9/20\n",
      "26713/26713 [==============================] - 29s 1ms/step - loss: 0.0874 - acc: 0.9702 - val_loss: 0.9221 - val_acc: 0.7561\n",
      "Epoch 10/20\n",
      "26713/26713 [==============================] - 29s 1ms/step - loss: 0.0761 - acc: 0.9753 - val_loss: 0.4530 - val_acc: 0.8865\n",
      "Epoch 11/20\n",
      "26713/26713 [==============================] - 29s 1ms/step - loss: 0.0678 - acc: 0.9768 - val_loss: 0.2095 - val_acc: 0.9421\n",
      "Epoch 12/20\n",
      "26713/26713 [==============================] - 29s 1ms/step - loss: 0.0612 - acc: 0.9807 - val_loss: 0.2579 - val_acc: 0.9370\n",
      "Epoch 13/20\n",
      "26713/26713 [==============================] - 29s 1ms/step - loss: 0.0512 - acc: 0.9827 - val_loss: 0.3002 - val_acc: 0.9326\n",
      "Epoch 14/20\n",
      "26713/26713 [==============================] - 29s 1ms/step - loss: 0.0458 - acc: 0.9847 - val_loss: 1.2351 - val_acc: 0.8043\n",
      "Epoch 15/20\n",
      "26713/26713 [==============================] - 29s 1ms/step - loss: 0.0425 - acc: 0.9854 - val_loss: 0.4920 - val_acc: 0.8990\n",
      "Epoch 16/20\n",
      "26713/26713 [==============================] - 29s 1ms/step - loss: 0.0408 - acc: 0.9865 - val_loss: 0.7934 - val_acc: 0.8441\n",
      "Epoch 17/20\n",
      "26713/26713 [==============================] - 29s 1ms/step - loss: 0.0357 - acc: 0.9887 - val_loss: 0.3599 - val_acc: 0.9299\n",
      "Epoch 18/20\n",
      "26713/26713 [==============================] - 29s 1ms/step - loss: 0.0309 - acc: 0.9894 - val_loss: 0.2557 - val_acc: 0.9421\n",
      "Epoch 19/20\n",
      "26713/26713 [==============================] - 29s 1ms/step - loss: 0.0268 - acc: 0.9915 - val_loss: 0.2562 - val_acc: 0.9475\n",
      "Epoch 20/20\n",
      "26713/26713 [==============================] - 29s 1ms/step - loss: 0.0232 - acc: 0.9921 - val_loss: 0.3709 - val_acc: 0.9269\n"
     ]
    }
   ],
   "source": [
    "\"\"\" Building Resnet Model with Mel Spec Data and [16,32,64] sequence of filters with KNOWNS only \"\"\"\n",
    "build_model_withoutunk('mel','Resnet',[16,32,64])"
   ]
  },
  {
   "cell_type": "markdown",
   "metadata": {},
   "source": [
    "# 5a Resnet Model with MFCC Data and [8,16,32] sequence of filters with knowns only"
   ]
  },
  {
   "cell_type": "code",
   "execution_count": 61,
   "metadata": {},
   "outputs": [
    {
     "name": "stdout",
     "output_type": "stream",
     "text": [
      "Train on 26713 samples, validate on 2969 samples\n",
      "Epoch 1/20\n",
      "26713/26713 [==============================] - 21s 795us/step - loss: 0.9929 - acc: 0.6709 - val_loss: 0.9241 - val_acc: 0.7292\n",
      "Epoch 2/20\n",
      "26713/26713 [==============================] - 16s 615us/step - loss: 0.4157 - acc: 0.8597 - val_loss: 0.4481 - val_acc: 0.8518\n",
      "Epoch 3/20\n",
      "26713/26713 [==============================] - 16s 606us/step - loss: 0.3048 - acc: 0.8990 - val_loss: 0.4281 - val_acc: 0.8676\n",
      "Epoch 4/20\n",
      "26713/26713 [==============================] - 16s 606us/step - loss: 0.2502 - acc: 0.9187 - val_loss: 0.3338 - val_acc: 0.8946\n",
      "Epoch 5/20\n",
      "26713/26713 [==============================] - 16s 605us/step - loss: 0.2097 - acc: 0.9301 - val_loss: 0.3320 - val_acc: 0.8915\n",
      "Epoch 6/20\n",
      "26713/26713 [==============================] - 17s 624us/step - loss: 0.1756 - acc: 0.9403 - val_loss: 0.3105 - val_acc: 0.9128\n",
      "Epoch 7/20\n",
      "26713/26713 [==============================] - 16s 608us/step - loss: 0.1582 - acc: 0.9486 - val_loss: 0.4158 - val_acc: 0.8828\n",
      "Epoch 8/20\n",
      "26713/26713 [==============================] - 16s 607us/step - loss: 0.1349 - acc: 0.9554 - val_loss: 0.3426 - val_acc: 0.9084\n",
      "Epoch 9/20\n",
      "26713/26713 [==============================] - 16s 612us/step - loss: 0.1262 - acc: 0.9583 - val_loss: 0.3587 - val_acc: 0.8979\n",
      "Epoch 10/20\n",
      "26713/26713 [==============================] - 17s 640us/step - loss: 0.1080 - acc: 0.9624 - val_loss: 0.3196 - val_acc: 0.9074\n",
      "Epoch 11/20\n",
      "26713/26713 [==============================] - 16s 617us/step - loss: 0.0973 - acc: 0.9668 - val_loss: 0.4347 - val_acc: 0.8885\n",
      "Epoch 12/20\n",
      "26713/26713 [==============================] - 16s 605us/step - loss: 0.0875 - acc: 0.9703 - val_loss: 0.3382 - val_acc: 0.9107\n",
      "Epoch 13/20\n",
      "26713/26713 [==============================] - 16s 605us/step - loss: 0.0778 - acc: 0.9744 - val_loss: 0.3033 - val_acc: 0.9188\n",
      "Epoch 14/20\n",
      "26713/26713 [==============================] - 16s 607us/step - loss: 0.0690 - acc: 0.9766 - val_loss: 0.3019 - val_acc: 0.9212\n",
      "Epoch 15/20\n",
      "26713/26713 [==============================] - 16s 608us/step - loss: 0.0644 - acc: 0.9787 - val_loss: 0.3687 - val_acc: 0.9165\n",
      "Epoch 16/20\n",
      "26713/26713 [==============================] - 16s 610us/step - loss: 0.0554 - acc: 0.9817 - val_loss: 0.3619 - val_acc: 0.9212\n",
      "Epoch 17/20\n",
      "26713/26713 [==============================] - 16s 611us/step - loss: 0.0468 - acc: 0.9840 - val_loss: 0.3854 - val_acc: 0.9094\n",
      "Epoch 18/20\n",
      "26713/26713 [==============================] - 16s 608us/step - loss: 0.0465 - acc: 0.9837 - val_loss: 0.3846 - val_acc: 0.9168\n",
      "Epoch 19/20\n",
      "26713/26713 [==============================] - 16s 607us/step - loss: 0.0394 - acc: 0.9870 - val_loss: 0.4176 - val_acc: 0.9155\n",
      "Epoch 20/20\n",
      "26713/26713 [==============================] - 16s 606us/step - loss: 0.0391 - acc: 0.9866 - val_loss: 0.3892 - val_acc: 0.9182\n"
     ]
    }
   ],
   "source": [
    "\"\"\" Building Resnet Model with Mel Spec Data and [8,16,32] sequence of filters with KNOWNS only \"\"\"\n",
    "build_model_withoutunk('mfcc','Resnet',[8,16,32])"
   ]
  },
  {
   "cell_type": "markdown",
   "metadata": {},
   "source": [
    "# 1f Resnet Model with MFCC Data and [16,32,64] sequence of filters with knowns only"
   ]
  },
  {
   "cell_type": "code",
   "execution_count": 62,
   "metadata": {},
   "outputs": [
    {
     "name": "stdout",
     "output_type": "stream",
     "text": [
      "Train on 26713 samples, validate on 2969 samples\n",
      "Epoch 1/20\n",
      "26713/26713 [==============================] - 21s 788us/step - loss: 0.7887 - acc: 0.7700 - val_loss: 0.9881 - val_acc: 0.7457\n",
      "Epoch 2/20\n",
      "26713/26713 [==============================] - 16s 592us/step - loss: 0.2990 - acc: 0.8987 - val_loss: 0.4257 - val_acc: 0.8740\n",
      "Epoch 3/20\n",
      "26713/26713 [==============================] - 16s 583us/step - loss: 0.2154 - acc: 0.9275 - val_loss: 0.4404 - val_acc: 0.8653\n",
      "Epoch 4/20\n",
      "26713/26713 [==============================] - 15s 579us/step - loss: 0.1724 - acc: 0.9418 - val_loss: 0.7018 - val_acc: 0.8346\n",
      "Epoch 5/20\n",
      "26713/26713 [==============================] - 16s 581us/step - loss: 0.1371 - acc: 0.9544 - val_loss: 0.5058 - val_acc: 0.8670\n",
      "Epoch 6/20\n",
      "26713/26713 [==============================] - 15s 580us/step - loss: 0.1138 - acc: 0.9604 - val_loss: 0.3037 - val_acc: 0.9178\n",
      "Epoch 7/20\n",
      "26713/26713 [==============================] - 16s 602us/step - loss: 0.0938 - acc: 0.9687 - val_loss: 0.3015 - val_acc: 0.9198\n",
      "Epoch 8/20\n",
      "26713/26713 [==============================] - 16s 581us/step - loss: 0.0781 - acc: 0.9735 - val_loss: 0.2898 - val_acc: 0.9293\n",
      "Epoch 9/20\n",
      "26713/26713 [==============================] - 16s 582us/step - loss: 0.0645 - acc: 0.9779 - val_loss: 0.3484 - val_acc: 0.9175\n",
      "Epoch 10/20\n",
      "26713/26713 [==============================] - 16s 585us/step - loss: 0.0545 - acc: 0.9811 - val_loss: 0.2888 - val_acc: 0.9299\n",
      "Epoch 11/20\n",
      "26713/26713 [==============================] - 15s 574us/step - loss: 0.0438 - acc: 0.9857 - val_loss: 0.3403 - val_acc: 0.9269\n",
      "Epoch 12/20\n",
      "26713/26713 [==============================] - 15s 569us/step - loss: 0.0440 - acc: 0.9863 - val_loss: 0.4052 - val_acc: 0.9168\n",
      "Epoch 13/20\n",
      "26713/26713 [==============================] - 16s 604us/step - loss: 0.0353 - acc: 0.9882 - val_loss: 0.3443 - val_acc: 0.9360\n",
      "Epoch 14/20\n",
      "26713/26713 [==============================] - 16s 606us/step - loss: 0.0302 - acc: 0.9905 - val_loss: 0.3176 - val_acc: 0.9330\n",
      "Epoch 15/20\n",
      "26713/26713 [==============================] - 16s 594us/step - loss: 0.0264 - acc: 0.9909 - val_loss: 0.3224 - val_acc: 0.9353\n",
      "Epoch 16/20\n",
      "26713/26713 [==============================] - 16s 584us/step - loss: 0.0222 - acc: 0.9930 - val_loss: 0.3528 - val_acc: 0.9296\n",
      "Epoch 17/20\n",
      "26713/26713 [==============================] - 16s 581us/step - loss: 0.0174 - acc: 0.9942 - val_loss: 0.4421 - val_acc: 0.9272\n",
      "Epoch 18/20\n",
      "26713/26713 [==============================] - 16s 584us/step - loss: 0.0186 - acc: 0.9943 - val_loss: 0.4223 - val_acc: 0.9360\n",
      "Epoch 19/20\n",
      "26713/26713 [==============================] - 16s 588us/step - loss: 0.0152 - acc: 0.9950 - val_loss: 0.3478 - val_acc: 0.9353\n",
      "Epoch 20/20\n",
      "26713/26713 [==============================] - 15s 575us/step - loss: 0.0162 - acc: 0.9950 - val_loss: 0.5381 - val_acc: 0.9229\n"
     ]
    }
   ],
   "source": [
    "\"\"\" Building Resnet Model with Mel Spec Data and [16,32,64] sequence of filters with KNOWNS only \"\"\"\n",
    "build_model_withoutunk('mfcc','Resnet',[16,32,64])"
   ]
  },
  {
   "cell_type": "code",
   "execution_count": null,
   "metadata": {},
   "outputs": [],
   "source": []
  }
 ],
 "metadata": {
  "kernelspec": {
   "display_name": "Environment (conda_tensorflow_p36)",
   "language": "python",
   "name": "conda_tensorflow_p36"
  },
  "language_info": {
   "codemirror_mode": {
    "name": "ipython",
    "version": 3
   },
   "file_extension": ".py",
   "mimetype": "text/x-python",
   "name": "python",
   "nbconvert_exporter": "python",
   "pygments_lexer": "ipython3",
   "version": "3.6.5"
  }
 },
 "nbformat": 4,
 "nbformat_minor": 2
}
