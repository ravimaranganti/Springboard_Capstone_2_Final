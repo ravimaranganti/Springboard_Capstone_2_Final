{
 "cells": [
  {
   "cell_type": "code",
   "execution_count": 1,
   "metadata": {},
   "outputs": [
    {
     "name": "stderr",
     "output_type": "stream",
     "text": [
      "Using TensorFlow backend.\n"
     ]
    }
   ],
   "source": [
    "import os\n",
    "import numpy as np\n",
    "from scipy.fftpack import fft\n",
    "from scipy.io import wavfile\n",
    "from scipy import signal\n",
    "from glob import glob\n",
    "import re\n",
    "import pandas as pd\n",
    "import gc\n",
    "from scipy.io import wavfile\n",
    "\n",
    "from keras.callbacks import EarlyStopping\n",
    "from keras import optimizers, losses, activations, models\n",
    "from keras.layers import Convolution2D, Dense, Input, Flatten, Dropout, MaxPooling2D, BatchNormalization\n",
    "from sklearn.model_selection import train_test_split\n",
    "import keras\n",
    "\n",
    "L = 16000\n",
    "legal_labels = 'yes no up down left right on off stop go silence unknown'.split()\n",
    "\n",
    "#src folders\n",
    "root_path = r'..'\n",
    "out_path = r'.'\n",
    "model_path = r'.'\n",
    "train_audio_path = '../train/audio/'\n",
    "test_audio_path = '../test/audio/'"
   ]
  },
  {
   "cell_type": "code",
   "execution_count": 2,
   "metadata": {},
   "outputs": [],
   "source": [
    "def custom_fft(y, fs):\n",
    "    T = 1.0 / fs\n",
    "    N = y.shape[0]\n",
    "    yf = fft(y)\n",
    "    xf = np.linspace(0.0, 1.0/(2.0*T), N//2)\n",
    "    # FFT is simmetrical, so we take just the first half\n",
    "    # FFT is also complex, to we take just the real part (abs)\n",
    "    vals = 2.0/N * np.abs(yf[0:N//2])\n",
    "    return xf, vals\n",
    "\n",
    "def log_specgram(audio, sample_rate, window_size=20,\n",
    "                 step_size=10, eps=1e-10):\n",
    "    nperseg = int(round(window_size * sample_rate / 1e3))\n",
    "    noverlap = int(round(step_size * sample_rate / 1e3))\n",
    "    freqs, times, spec = signal.spectrogram(audio,\n",
    "                                    fs=sample_rate,\n",
    "                                    window='hann',\n",
    "                                    nperseg=nperseg,\n",
    "                                    noverlap=noverlap,\n",
    "                                    detrend=False)\n",
    "    return freqs, times, np.log(spec.T.astype(np.float32) + eps)"
   ]
  },
  {
   "cell_type": "code",
   "execution_count": 3,
   "metadata": {},
   "outputs": [],
   "source": [
    "def pad_audio(samples):\n",
    "    if len(samples) >= L: return samples\n",
    "    else: return np.pad(samples, pad_width=(L - len(samples), 0), mode='constant', constant_values=(0, 0))\n",
    "\n",
    "def chop_audio(samples, L=16000, num=1000):\n",
    "    for i in range(num):\n",
    "        beg = np.random.randint(0, len(samples) - L)\n",
    "        yield samples[beg: beg + L]\n",
    "\n",
    "def label_transform(labels):\n",
    "    nlabels = []\n",
    "    for label in labels:\n",
    "        if label == '_background_noise_':\n",
    "            nlabels.append('silence')\n",
    "        elif label not in legal_labels:\n",
    "            nlabels.append('unknown')\n",
    "        else:\n",
    "            nlabels.append(label)\n",
    "    return pd.get_dummies(pd.Series(nlabels))"
   ]
  },
  {
   "cell_type": "code",
   "execution_count": 4,
   "metadata": {},
   "outputs": [],
   "source": [
    "path=train_audio_path\n",
    "subdir_list = [dir for dir in os.listdir(path)]\n",
    "labels_list= subdir_list\n",
    "target_word_list=['yes', 'no', 'up', 'down', 'left', 'right', 'on', 'off', 'stop', 'go']\n",
    "silence_list=['_background_noise_']\n",
    "unknown_label_list=[label for label in labels_list if label not in target_word_list and label not in silence_list]"
   ]
  },
  {
   "cell_type": "code",
   "execution_count": 5,
   "metadata": {},
   "outputs": [],
   "source": [
    "subfolderlist = []\n",
    "for x in os.listdir(train_audio_path):\n",
    "    if os.path.isdir(train_audio_path + '/' + x):\n",
    "        subfolderlist.append(x)"
   ]
  },
  {
   "cell_type": "code",
   "execution_count": 6,
   "metadata": {},
   "outputs": [],
   "source": [
    "# obtain a file map with path and label for training iterators\n",
    "file_target = []\n",
    "for x in subfolderlist:\n",
    "    temp = [[train_audio_path+x+'/'+y,x] for y in os.listdir(train_audio_path + x) if '.wav' in y]\n",
    "    file_target += temp\n",
    "\n",
    "train_file_map = pd.DataFrame(file_target, columns=['path', 'label'])"
   ]
  },
  {
   "cell_type": "code",
   "execution_count": 7,
   "metadata": {},
   "outputs": [
    {
     "data": {
      "text/html": [
       "<div>\n",
       "<style scoped>\n",
       "    .dataframe tbody tr th:only-of-type {\n",
       "        vertical-align: middle;\n",
       "    }\n",
       "\n",
       "    .dataframe tbody tr th {\n",
       "        vertical-align: top;\n",
       "    }\n",
       "\n",
       "    .dataframe thead th {\n",
       "        text-align: right;\n",
       "    }\n",
       "</style>\n",
       "<table border=\"1\" class=\"dataframe\">\n",
       "  <thead>\n",
       "    <tr style=\"text-align: right;\">\n",
       "      <th></th>\n",
       "      <th>path</th>\n",
       "      <th>label</th>\n",
       "    </tr>\n",
       "  </thead>\n",
       "  <tbody>\n",
       "    <tr>\n",
       "      <th>64722</th>\n",
       "      <td>../train/audio/zero/2ad772d6_nohash_1.wav</td>\n",
       "      <td>zero</td>\n",
       "    </tr>\n",
       "    <tr>\n",
       "      <th>64723</th>\n",
       "      <td>../train/audio/zero/9ff2d2f4_nohash_0.wav</td>\n",
       "      <td>zero</td>\n",
       "    </tr>\n",
       "    <tr>\n",
       "      <th>64724</th>\n",
       "      <td>../train/audio/zero/30f31e42_nohash_0.wav</td>\n",
       "      <td>zero</td>\n",
       "    </tr>\n",
       "    <tr>\n",
       "      <th>64725</th>\n",
       "      <td>../train/audio/zero/37dca74f_nohash_1.wav</td>\n",
       "      <td>zero</td>\n",
       "    </tr>\n",
       "    <tr>\n",
       "      <th>64726</th>\n",
       "      <td>../train/audio/zero/0d393936_nohash_0.wav</td>\n",
       "      <td>zero</td>\n",
       "    </tr>\n",
       "  </tbody>\n",
       "</table>\n",
       "</div>"
      ],
      "text/plain": [
       "                                            path label\n",
       "64722  ../train/audio/zero/2ad772d6_nohash_1.wav  zero\n",
       "64723  ../train/audio/zero/9ff2d2f4_nohash_0.wav  zero\n",
       "64724  ../train/audio/zero/30f31e42_nohash_0.wav  zero\n",
       "64725  ../train/audio/zero/37dca74f_nohash_1.wav  zero\n",
       "64726  ../train/audio/zero/0d393936_nohash_0.wav  zero"
      ]
     },
     "execution_count": 7,
     "metadata": {},
     "output_type": "execute_result"
    }
   ],
   "source": [
    "train_file_map.tail()"
   ]
  },
  {
   "cell_type": "code",
   "execution_count": 8,
   "metadata": {},
   "outputs": [],
   "source": [
    "train_file_map[\"nlabel\"]=''    "
   ]
  },
  {
   "cell_type": "code",
   "execution_count": 9,
   "metadata": {},
   "outputs": [],
   "source": [
    "for index,row in train_file_map.iterrows():\n",
    "    if row[\"label\"] in target_word_list:\n",
    "        row[\"nlabel\"]=row[\"label\"]\n",
    "    elif row[\"label\"]=='_background_noise_':\n",
    "        row[\"nlabel\"]='silence'\n",
    "    else:\n",
    "        row[\"nlabel\"]='unknown'"
   ]
  },
  {
   "cell_type": "code",
   "execution_count": 10,
   "metadata": {},
   "outputs": [
    {
     "data": {
      "text/html": [
       "<div>\n",
       "<style scoped>\n",
       "    .dataframe tbody tr th:only-of-type {\n",
       "        vertical-align: middle;\n",
       "    }\n",
       "\n",
       "    .dataframe tbody tr th {\n",
       "        vertical-align: top;\n",
       "    }\n",
       "\n",
       "    .dataframe thead th {\n",
       "        text-align: right;\n",
       "    }\n",
       "</style>\n",
       "<table border=\"1\" class=\"dataframe\">\n",
       "  <thead>\n",
       "    <tr style=\"text-align: right;\">\n",
       "      <th></th>\n",
       "      <th>path</th>\n",
       "      <th>label</th>\n",
       "      <th>nlabel</th>\n",
       "    </tr>\n",
       "  </thead>\n",
       "  <tbody>\n",
       "    <tr>\n",
       "      <th>0</th>\n",
       "      <td>../train/audio/bed/c245d3d7_nohash_0.wav</td>\n",
       "      <td>bed</td>\n",
       "      <td>unknown</td>\n",
       "    </tr>\n",
       "    <tr>\n",
       "      <th>1</th>\n",
       "      <td>../train/audio/bed/a1a59b72_nohash_0.wav</td>\n",
       "      <td>bed</td>\n",
       "      <td>unknown</td>\n",
       "    </tr>\n",
       "    <tr>\n",
       "      <th>2</th>\n",
       "      <td>../train/audio/bed/89f3ab7d_nohash_1.wav</td>\n",
       "      <td>bed</td>\n",
       "      <td>unknown</td>\n",
       "    </tr>\n",
       "    <tr>\n",
       "      <th>3</th>\n",
       "      <td>../train/audio/bed/35c8fa78_nohash_1.wav</td>\n",
       "      <td>bed</td>\n",
       "      <td>unknown</td>\n",
       "    </tr>\n",
       "    <tr>\n",
       "      <th>4</th>\n",
       "      <td>../train/audio/bed/1706c35f_nohash_0.wav</td>\n",
       "      <td>bed</td>\n",
       "      <td>unknown</td>\n",
       "    </tr>\n",
       "  </tbody>\n",
       "</table>\n",
       "</div>"
      ],
      "text/plain": [
       "                                       path label   nlabel\n",
       "0  ../train/audio/bed/c245d3d7_nohash_0.wav   bed  unknown\n",
       "1  ../train/audio/bed/a1a59b72_nohash_0.wav   bed  unknown\n",
       "2  ../train/audio/bed/89f3ab7d_nohash_1.wav   bed  unknown\n",
       "3  ../train/audio/bed/35c8fa78_nohash_1.wav   bed  unknown\n",
       "4  ../train/audio/bed/1706c35f_nohash_0.wav   bed  unknown"
      ]
     },
     "execution_count": 10,
     "metadata": {},
     "output_type": "execute_result"
    }
   ],
   "source": [
    "train_file_map.head()"
   ]
  },
  {
   "cell_type": "code",
   "execution_count": 11,
   "metadata": {},
   "outputs": [],
   "source": [
    "targets_to_keep = ['yes', 'no', 'up', 'down', 'left',\n",
    "                   'right', 'on', 'off', 'stop', 'go', 'silence']\n",
    "train_file_map['target'] = train_file_map['nlabel']\n",
    "train_file_map['target'] = train_file_map['target'].apply(\n",
    "    lambda x: x if x in targets_to_keep else 'unknown')\n",
    "label_to_ix = {\n",
    "    'unknown': 0,\n",
    "    'silence': 1,\n",
    "    'down': 2,\n",
    "    'go': 3,\n",
    "    'left': 4,\n",
    "    'no': 5,\n",
    "    'off': 6,\n",
    "    'on': 7,\n",
    "    'right': 8,\n",
    "    'stop': 9,\n",
    "    'up': 10,\n",
    "    'yes': 11}\n",
    "ix_to_label ={\n",
    "    0: 'unknown',\n",
    "    1: 'silence',\n",
    "    2: 'down',\n",
    "    3: 'go',\n",
    "    4: 'left',\n",
    "    5: 'no',\n",
    "    6: 'off',\n",
    "    7: 'on',\n",
    "    8: 'right',\n",
    "    9: 'stop',\n",
    "    10: 'up',\n",
    "    11: 'yes'\n",
    "}\n",
    "train_file_map['label'] = train_file_map['target'].apply(lambda x: label_to_ix[x])"
   ]
  },
  {
   "cell_type": "code",
   "execution_count": 12,
   "metadata": {},
   "outputs": [],
   "source": [
    "train_file_map=train_file_map.drop(columns=\"nlabel\")"
   ]
  },
  {
   "cell_type": "code",
   "execution_count": 13,
   "metadata": {},
   "outputs": [
    {
     "data": {
      "text/html": [
       "<div>\n",
       "<style scoped>\n",
       "    .dataframe tbody tr th:only-of-type {\n",
       "        vertical-align: middle;\n",
       "    }\n",
       "\n",
       "    .dataframe tbody tr th {\n",
       "        vertical-align: top;\n",
       "    }\n",
       "\n",
       "    .dataframe thead th {\n",
       "        text-align: right;\n",
       "    }\n",
       "</style>\n",
       "<table border=\"1\" class=\"dataframe\">\n",
       "  <thead>\n",
       "    <tr style=\"text-align: right;\">\n",
       "      <th></th>\n",
       "      <th>path</th>\n",
       "      <th>label</th>\n",
       "      <th>target</th>\n",
       "    </tr>\n",
       "  </thead>\n",
       "  <tbody>\n",
       "    <tr>\n",
       "      <th>64722</th>\n",
       "      <td>../train/audio/zero/2ad772d6_nohash_1.wav</td>\n",
       "      <td>0</td>\n",
       "      <td>unknown</td>\n",
       "    </tr>\n",
       "    <tr>\n",
       "      <th>64723</th>\n",
       "      <td>../train/audio/zero/9ff2d2f4_nohash_0.wav</td>\n",
       "      <td>0</td>\n",
       "      <td>unknown</td>\n",
       "    </tr>\n",
       "    <tr>\n",
       "      <th>64724</th>\n",
       "      <td>../train/audio/zero/30f31e42_nohash_0.wav</td>\n",
       "      <td>0</td>\n",
       "      <td>unknown</td>\n",
       "    </tr>\n",
       "    <tr>\n",
       "      <th>64725</th>\n",
       "      <td>../train/audio/zero/37dca74f_nohash_1.wav</td>\n",
       "      <td>0</td>\n",
       "      <td>unknown</td>\n",
       "    </tr>\n",
       "    <tr>\n",
       "      <th>64726</th>\n",
       "      <td>../train/audio/zero/0d393936_nohash_0.wav</td>\n",
       "      <td>0</td>\n",
       "      <td>unknown</td>\n",
       "    </tr>\n",
       "  </tbody>\n",
       "</table>\n",
       "</div>"
      ],
      "text/plain": [
       "                                            path  label   target\n",
       "64722  ../train/audio/zero/2ad772d6_nohash_1.wav      0  unknown\n",
       "64723  ../train/audio/zero/9ff2d2f4_nohash_0.wav      0  unknown\n",
       "64724  ../train/audio/zero/30f31e42_nohash_0.wav      0  unknown\n",
       "64725  ../train/audio/zero/37dca74f_nohash_1.wav      0  unknown\n",
       "64726  ../train/audio/zero/0d393936_nohash_0.wav      0  unknown"
      ]
     },
     "execution_count": 13,
     "metadata": {},
     "output_type": "execute_result"
    }
   ],
   "source": [
    "train_file_map.tail()"
   ]
  },
  {
   "cell_type": "code",
   "execution_count": 14,
   "metadata": {},
   "outputs": [
    {
     "data": {
      "text/plain": [
       "array(['unknown', 'right', 'on', 'stop', 'no', 'off', 'silence', 'up',\n",
       "       'yes', 'go', 'left', 'down'], dtype=object)"
      ]
     },
     "execution_count": 14,
     "metadata": {},
     "output_type": "execute_result"
    }
   ],
   "source": [
    "train_file_map[\"target\"].unique()"
   ]
  },
  {
   "cell_type": "code",
   "execution_count": 15,
   "metadata": {},
   "outputs": [],
   "source": [
    "random_state=2017\n",
    "test_size=0.1\n",
    "val_size=0.1\n",
    "BATCH=16"
   ]
  },
  {
   "cell_type": "code",
   "execution_count": 16,
   "metadata": {},
   "outputs": [],
   "source": [
    "import os\n",
    "import numpy as np\n",
    "import pandas as pd\n",
    "import random\n",
    "    \n",
    "from glob import glob\n",
    "\n",
    "from scipy.io import wavfile\n",
    "from scipy.signal import stft\n",
    "\n",
    "from sklearn.model_selection import train_test_split\n",
    "\n",
    "from keras.utils import to_categorical\n",
    "from keras.callbacks import EarlyStopping"
   ]
  },
  {
   "cell_type": "code",
   "execution_count": 17,
   "metadata": {},
   "outputs": [],
   "source": [
    "def generator(df,batch_size,mode):\n",
    "    new_sample_rate=16000\n",
    "    print(\"chum\")\n",
    "    df_train,df_val=train_test_split(df,test_size=val_size,random_state=random_state)\n",
    "    while True:\n",
    "        # Depending on mode select DataFrame with paths\n",
    "        if mode == 'train':\n",
    "            ids = random.sample(range(df_train.shape[0]), df_train.shape[0])\n",
    "        elif mode == 'val':\n",
    "            ids = random.sample(range(df_val.shape[0]),df_val.shape[0])\n",
    "        elif mode == 'test':\n",
    "            ids = list(range(df_test.shape[0]))\n",
    "            print(len(ids))\n",
    "        else:\n",
    "            raise ValueError('The mode should be either train, val or test.')\n",
    "                \n",
    "            # Create batches (for training data the batches are randomly permuted)\n",
    "        for start in range(0, len(ids), batch_size):\n",
    "            X_batch = []\n",
    "            if mode != 'test': \n",
    "                y_batch = []\n",
    "            end = min(start + batch_size, len(ids))\n",
    "            i_batch = ids[start:end]\n",
    "            for i in i_batch:\n",
    "                sample_rate, samples = wavfile.read(train_file_map[\"path\"][i])\n",
    "                samples = pad_audio(samples)\n",
    "                if len(samples) > 16000:\n",
    "                    n_samples = chop_audio(samples)\n",
    "                else: n_samples = [samples]\n",
    "                for samples in n_samples:\n",
    "                    resampled = signal.resample(samples, int(new_sample_rate / sample_rate * samples.shape[0]))\n",
    "                    _, _, specgram = log_specgram(resampled, sample_rate=new_sample_rate)\n",
    "                    y_batch.append(train_file_map[\"label\"][i])\n",
    "                    X_batch.append(specgram)\n",
    "               \n",
    "            X_batch = np.array(X_batch)\n",
    "            X_batch = X_batch.reshape(tuple(list(X_batch.shape)+[1]))\n",
    "            y_batch=to_categorical(y_batch, num_classes = len(label_to_ix))\n",
    "            \n",
    "            if mode != 'test':\n",
    "                yield (X_batch, y_batch)\n",
    "            else:\n",
    "                print(\"test\")\n",
    "                yield X_batch"
   ]
  },
  {
   "cell_type": "code",
   "execution_count": 18,
   "metadata": {},
   "outputs": [],
   "source": [
    "sample_map_df_train,sample_map_df_val=train_test_split(train_file_map,test_size=val_size,random_state=random_state)"
   ]
  },
  {
   "cell_type": "code",
   "execution_count": 19,
   "metadata": {},
   "outputs": [
    {
     "name": "stderr",
     "output_type": "stream",
     "text": [
      "WARNING: Logging before flag parsing goes to stderr.\n",
      "W0917 03:46:34.414534 139871869134592 deprecation_wrapper.py:119] From /home/ubuntu/anaconda3/envs/tensorflow_p36/lib/python3.6/site-packages/keras/backend/tensorflow_backend.py:74: The name tf.get_default_graph is deprecated. Please use tf.compat.v1.get_default_graph instead.\n",
      "\n",
      "W0917 03:46:34.447576 139871869134592 deprecation_wrapper.py:119] From /home/ubuntu/anaconda3/envs/tensorflow_p36/lib/python3.6/site-packages/keras/backend/tensorflow_backend.py:517: The name tf.placeholder is deprecated. Please use tf.compat.v1.placeholder instead.\n",
      "\n",
      "W0917 03:46:34.465629 139871869134592 deprecation_wrapper.py:119] From /home/ubuntu/anaconda3/envs/tensorflow_p36/lib/python3.6/site-packages/keras/backend/tensorflow_backend.py:174: The name tf.get_default_session is deprecated. Please use tf.compat.v1.get_default_session instead.\n",
      "\n",
      "W0917 03:46:34.466262 139871869134592 deprecation_wrapper.py:119] From /home/ubuntu/anaconda3/envs/tensorflow_p36/lib/python3.6/site-packages/keras/backend/tensorflow_backend.py:181: The name tf.ConfigProto is deprecated. Please use tf.compat.v1.ConfigProto instead.\n",
      "\n",
      "W0917 03:46:34.467135 139871869134592 deprecation_wrapper.py:119] From /home/ubuntu/anaconda3/envs/tensorflow_p36/lib/python3.6/site-packages/keras/backend/tensorflow_backend.py:186: The name tf.Session is deprecated. Please use tf.compat.v1.Session instead.\n",
      "\n",
      "W0917 03:46:38.330227 139871869134592 deprecation_wrapper.py:119] From /home/ubuntu/anaconda3/envs/tensorflow_p36/lib/python3.6/site-packages/keras/backend/tensorflow_backend.py:1834: The name tf.nn.fused_batch_norm is deprecated. Please use tf.compat.v1.nn.fused_batch_norm instead.\n",
      "\n",
      "W0917 03:46:38.434017 139871869134592 deprecation_wrapper.py:119] From /home/ubuntu/anaconda3/envs/tensorflow_p36/lib/python3.6/site-packages/keras/backend/tensorflow_backend.py:3976: The name tf.nn.max_pool is deprecated. Please use tf.nn.max_pool2d instead.\n",
      "\n",
      "W0917 03:46:38.440989 139871869134592 deprecation.py:506] From /home/ubuntu/anaconda3/envs/tensorflow_p36/lib/python3.6/site-packages/keras/backend/tensorflow_backend.py:3445: calling dropout (from tensorflow.python.ops.nn_ops) with keep_prob is deprecated and will be removed in a future version.\n",
      "Instructions for updating:\n",
      "Please use `rate` instead of `keep_prob`. Rate should be set to `rate = 1 - keep_prob`.\n",
      "W0917 03:46:38.733832 139871869134592 deprecation_wrapper.py:119] From /home/ubuntu/anaconda3/envs/tensorflow_p36/lib/python3.6/site-packages/keras/optimizers.py:790: The name tf.train.Optimizer is deprecated. Please use tf.compat.v1.train.Optimizer instead.\n",
      "\n",
      "W0917 03:46:38.742927 139871869134592 deprecation.py:323] From /home/ubuntu/anaconda3/envs/tensorflow_p36/lib/python3.6/site-packages/tensorflow/python/ops/nn_impl.py:180: add_dispatch_support.<locals>.wrapper (from tensorflow.python.ops.array_ops) is deprecated and will be removed in a future version.\n",
      "Instructions for updating:\n",
      "Use tf.where in 2.0, which has the same broadcast rule as np.where\n"
     ]
    },
    {
     "name": "stdout",
     "output_type": "stream",
     "text": [
      "_________________________________________________________________\n",
      "Layer (type)                 Output Shape              Param #   \n",
      "=================================================================\n",
      "input_1 (InputLayer)         (None, 99, 161, 1)        0         \n",
      "_________________________________________________________________\n",
      "batch_normalization_1 (Batch (None, 99, 161, 1)        4         \n",
      "_________________________________________________________________\n",
      "conv2d_1 (Conv2D)            (None, 98, 160, 16)       80        \n",
      "_________________________________________________________________\n",
      "conv2d_2 (Conv2D)            (None, 97, 159, 16)       1040      \n",
      "_________________________________________________________________\n",
      "max_pooling2d_1 (MaxPooling2 (None, 48, 79, 16)        0         \n",
      "_________________________________________________________________\n",
      "dropout_1 (Dropout)          (None, 48, 79, 16)        0         \n",
      "_________________________________________________________________\n",
      "conv2d_3 (Conv2D)            (None, 46, 77, 32)        4640      \n",
      "_________________________________________________________________\n",
      "conv2d_4 (Conv2D)            (None, 44, 75, 32)        9248      \n",
      "_________________________________________________________________\n",
      "max_pooling2d_2 (MaxPooling2 (None, 22, 37, 32)        0         \n",
      "_________________________________________________________________\n",
      "dropout_2 (Dropout)          (None, 22, 37, 32)        0         \n",
      "_________________________________________________________________\n",
      "conv2d_5 (Conv2D)            (None, 21, 36, 64)        8256      \n",
      "_________________________________________________________________\n",
      "max_pooling2d_3 (MaxPooling2 (None, 10, 18, 64)        0         \n",
      "_________________________________________________________________\n",
      "dropout_3 (Dropout)          (None, 10, 18, 64)        0         \n",
      "_________________________________________________________________\n",
      "flatten_1 (Flatten)          (None, 11520)             0         \n",
      "_________________________________________________________________\n",
      "dense_1 (Dense)              (None, 256)               2949376   \n",
      "_________________________________________________________________\n",
      "batch_normalization_2 (Batch (None, 256)               1024      \n",
      "_________________________________________________________________\n",
      "dense_2 (Dense)              (None, 256)               65792     \n",
      "_________________________________________________________________\n",
      "batch_normalization_3 (Batch (None, 256)               1024      \n",
      "_________________________________________________________________\n",
      "dense_3 (Dense)              (None, 12)                3084      \n",
      "=================================================================\n",
      "Total params: 3,043,568\n",
      "Trainable params: 3,042,542\n",
      "Non-trainable params: 1,026\n",
      "_________________________________________________________________\n",
      "Epoch 1/5\n",
      "chum\n",
      "chum\n",
      " 878/3641 [======>.......................] - ETA: 2:44 - loss: 0.1584"
     ]
    },
    {
     "name": "stderr",
     "output_type": "stream",
     "text": [
      "/home/ubuntu/anaconda3/envs/tensorflow_p36/lib/python3.6/site-packages/scipy/io/wavfile.py:273: WavFileWarning: Chunk (non-data) not understood, skipping it.\n",
      "  WavFileWarning)\n"
     ]
    },
    {
     "name": "stdout",
     "output_type": "stream",
     "text": [
      "3641/3641 [==============================] - 223s 61ms/step - loss: 0.1070 - val_loss: 0.1329\n",
      "Epoch 2/5\n",
      "3641/3641 [==============================] - 145s 40ms/step - loss: 0.0578 - val_loss: 0.0612\n",
      "Epoch 3/5\n",
      "3641/3641 [==============================] - 146s 40ms/step - loss: 0.0445 - val_loss: 0.0415\n",
      "Epoch 4/5\n",
      "3641/3641 [==============================] - 145s 40ms/step - loss: 0.0366 - val_loss: 0.0345\n",
      "Epoch 5/5\n",
      "3641/3641 [==============================] - 146s 40ms/step - loss: 0.0342 - val_loss: 0.0384\n"
     ]
    }
   ],
   "source": [
    "input_shape = (99, 161, 1)\n",
    "nclass = 12\n",
    "inp = Input(shape=input_shape)\n",
    "norm_inp = BatchNormalization()(inp)\n",
    "img_1 = Convolution2D(16, kernel_size=2, activation=activations.relu)(norm_inp)\n",
    "img_1 = Convolution2D(16, kernel_size=2, activation=activations.relu)(img_1)\n",
    "img_1 = MaxPooling2D(pool_size=(2, 2))(img_1)\n",
    "img_1 = Dropout(rate=0.2)(img_1)\n",
    "img_1 = Convolution2D(32, kernel_size=3, activation=activations.relu)(img_1)\n",
    "img_1 = Convolution2D(32, kernel_size=3, activation=activations.relu)(img_1)\n",
    "img_1 = MaxPooling2D(pool_size=(2, 2))(img_1)\n",
    "img_1 = Dropout(rate=0.2)(img_1)\n",
    "img_1 = Convolution2D(64, kernel_size=2, activation=activations.relu)(img_1)\n",
    "img_1 = MaxPooling2D(pool_size=(2, 2))(img_1)\n",
    "img_1 = Dropout(rate=0.2)(img_1)\n",
    "img_1 = Flatten()(img_1)\n",
    "\n",
    "dense_1 = BatchNormalization()(Dense(256, activation=activations.relu)(img_1))\n",
    "dense_1 = BatchNormalization()(Dense(256, activation=activations.relu)(dense_1))\n",
    "dense_1 = Dense(nclass, activation=activations.softmax)(dense_1)\n",
    "\n",
    "model = models.Model(inputs=inp, outputs=dense_1)\n",
    "opt = optimizers.Adam()\n",
    "#callbacks = [EarlyStopping(monitor='val_acc', patience=4, verbose=1, mode='max')]\n",
    "model.compile(optimizer=opt, loss=losses.binary_crossentropy)\n",
    "model.summary()\n",
    "\n",
    "#x_train, x_valid, y_train, y_valid = train_test_split(x_train, y_train, test_size=0.1, random_state=2017)\n",
    "history=model.fit_generator(generator=generator(train_file_map,batch_size=16, mode='train'),steps_per_epoch=int(np.ceil(len(sample_map_df_train)/16)), validation_data=generator(train_file_map,batch_size=16, mode='val'), validation_steps=int(np.ceil(len(sample_map_df_val)/16)), epochs=5)\n",
    "\n",
    "model.save(os.path.join(model_path, 'light_cnn.model'))"
   ]
  },
  {
   "cell_type": "code",
   "execution_count": 20,
   "metadata": {},
   "outputs": [],
   "source": [
    "def test_data_generator(batch=16):\n",
    "    fpaths = glob(os.path.join(test_audio_path, '*wav'))\n",
    "    i = 0\n",
    "    for path in fpaths:\n",
    "        if i == 0:\n",
    "            imgs = []\n",
    "            fnames = []\n",
    "        i += 1\n",
    "        rate, samples = wavfile.read(path)\n",
    "        samples = pad_audio(samples)\n",
    "        resampled = signal.resample(samples, int(new_sample_rate / rate * samples.shape[0]))\n",
    "        _, _, specgram = log_specgram(resampled, sample_rate=new_sample_rate)\n",
    "        imgs.append(specgram)\n",
    "        fnames.append(path.split('\\\\')[-1])\n",
    "        if i == batch:\n",
    "            i = 0\n",
    "            imgs = np.array(imgs)\n",
    "            imgs = imgs.reshape(tuple(list(imgs.shape) + [1]))\n",
    "            yield fnames, imgs\n",
    "    if i < batch:\n",
    "        imgs = np.array(imgs)\n",
    "        imgs = imgs.reshape(tuple(list(imgs.shape) + [1]))\n",
    "        yield fnames, imgs\n",
    "    raise StopIteration()"
   ]
  },
  {
   "cell_type": "code",
   "execution_count": 21,
   "metadata": {},
   "outputs": [
    {
     "name": "stderr",
     "output_type": "stream",
     "text": [
      "/home/ubuntu/anaconda3/envs/tensorflow_p36/lib/python3.6/site-packages/ipykernel/__main__.py:4: DeprecationWarning: generator 'test_data_generator' raised StopIteration\n"
     ]
    }
   ],
   "source": [
    "new_sample_rate=16000\n",
    "index = []\n",
    "results = []\n",
    "for fnames, imgs in test_data_generator(batch=32):\n",
    "    predicts = model.predict(imgs)\n",
    "    predicts = np.argmax(predicts, axis=1)\n",
    "    predicts = [ix_to_label[p] for p in predicts]\n",
    "    index.extend(fnames)\n",
    "    results.extend(predicts)\n",
    "\n",
    "df = pd.DataFrame(columns=['fname', 'label'])\n",
    "df['fname'] = index\n",
    "df['label'] = results\n",
    "\n",
    "df2=df.copy()\n",
    "M = lambda x: x[\"fname\"][14:]\n",
    "df2=df2.apply(M,axis=1)\n",
    "df[\"fname\"]=df2\n",
    "\n",
    "df.to_csv(os.path.join(out_path, 'sub4.csv'))"
   ]
  },
  {
   "cell_type": "code",
   "execution_count": null,
   "metadata": {},
   "outputs": [],
   "source": []
  }
 ],
 "metadata": {
  "kernelspec": {
   "display_name": "Environment (conda_tensorflow_p36)",
   "language": "python",
   "name": "conda_tensorflow_p36"
  },
  "language_info": {
   "codemirror_mode": {
    "name": "ipython",
    "version": 3
   },
   "file_extension": ".py",
   "mimetype": "text/x-python",
   "name": "python",
   "nbconvert_exporter": "python",
   "pygments_lexer": "ipython3",
   "version": "3.6.5"
  }
 },
 "nbformat": 4,
 "nbformat_minor": 2
}
