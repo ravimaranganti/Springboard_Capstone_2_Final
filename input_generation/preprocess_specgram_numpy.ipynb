{
 "cells": [
  {
   "cell_type": "code",
   "execution_count": 5,
   "metadata": {},
   "outputs": [],
   "source": [
    "import os\n",
    "import numpy as np\n",
    "from scipy.fftpack import fft\n",
    "from scipy.io import wavfile\n",
    "from scipy import signal\n",
    "from glob import glob\n",
    "import re\n",
    "import pandas as pd\n",
    "import gc\n",
    "from scipy.io import wavfile\n",
    "\n",
    "\n",
    "from sklearn.model_selection import train_test_split\n",
    "\n",
    "L = 16000\n",
    "legal_labels = 'yes no up down left right on off stop go silence unknown'.split()\n",
    "\n",
    "#src folders\n",
    "root_path = r'..'\n",
    "out_path = r'.'\n",
    "model_path = r'.'\n",
    "train_audio_path = '../../train/audio/'\n",
    "test_audio_path = '../../test/audio/'"
   ]
  },
  {
   "cell_type": "code",
   "execution_count": 6,
   "metadata": {},
   "outputs": [],
   "source": [
    "def custom_fft(y, fs):\n",
    "    T = 1.0 / fs\n",
    "    N = y.shape[0]\n",
    "    yf = fft(y)\n",
    "    xf = np.linspace(0.0, 1.0/(2.0*T), N//2)\n",
    "    # FFT is simmetrical, so we take just the first half\n",
    "    # FFT is also complex, to we take just the real part (abs)\n",
    "    vals = 2.0/N * np.abs(yf[0:N//2])\n",
    "    return xf, vals\n",
    "\n",
    "def log_specgram(audio, sample_rate, window_size=20,\n",
    "                 step_size=10, eps=1e-10):\n",
    "    nperseg = int(round(window_size * sample_rate / 1e3))\n",
    "    noverlap = int(round(step_size * sample_rate / 1e3))\n",
    "    freqs, times, spec = signal.spectrogram(audio,\n",
    "                                    fs=sample_rate,\n",
    "                                    window='hann',\n",
    "                                    nperseg=nperseg,\n",
    "                                    noverlap=noverlap,\n",
    "                                    detrend=False)\n",
    "    return freqs, times, np.log(spec.T.astype(np.float32) + eps)"
   ]
  },
  {
   "cell_type": "code",
   "execution_count": 3,
   "metadata": {},
   "outputs": [],
   "source": [
    "def pad_audio(samples):\n",
    "    if len(samples) >= L: return samples\n",
    "    else: return np.pad(samples, pad_width=(L - len(samples), 0), mode='constant', constant_values=(0, 0))\n",
    "\n",
    "def chop_audio(samples, L=16000, num=1000):\n",
    "    for i in range(num):\n",
    "        beg = np.random.randint(0, len(samples) - L)\n",
    "        yield samples[beg: beg + L]\n",
    "\n",
    "def label_transform(labels):\n",
    "    nlabels = []\n",
    "    for label in labels:\n",
    "        if label == '_background_noise_':\n",
    "            nlabels.append('silence')\n",
    "        elif label not in legal_labels:\n",
    "            nlabels.append('unknown')\n",
    "        else:\n",
    "            nlabels.append(label)\n",
    "    return pd.get_dummies(pd.Series(nlabels))"
   ]
  },
  {
   "cell_type": "code",
   "execution_count": 7,
   "metadata": {},
   "outputs": [],
   "source": [
    "path=train_audio_path\n",
    "subdir_list = [dir for dir in os.listdir(path)]\n",
    "labels_list= subdir_list\n",
    "target_word_list=['yes', 'no', 'up', 'down', 'left', 'right', 'on', 'off', 'stop', 'go']\n",
    "silence_list=['_background_noise_']\n",
    "unknown_label_list=[label for label in labels_list if label not in target_word_list and label not in silence_list]"
   ]
  },
  {
   "cell_type": "code",
   "execution_count": 8,
   "metadata": {},
   "outputs": [],
   "source": [
    "subfolderlist = []\n",
    "for x in os.listdir(train_audio_path):\n",
    "    if os.path.isdir(train_audio_path + '/' + x):\n",
    "        subfolderlist.append(x)"
   ]
  },
  {
   "cell_type": "code",
   "execution_count": 9,
   "metadata": {},
   "outputs": [],
   "source": [
    "# obtain a file map with path and label for training iterators\n",
    "file_target = []\n",
    "for x in subfolderlist:\n",
    "    temp = [[train_audio_path+x+'/'+y,x] for y in os.listdir(train_audio_path + x) if '.wav' in y]\n",
    "    file_target += temp\n",
    "\n",
    "train_file_map = pd.DataFrame(file_target, columns=['path', 'label'])"
   ]
  },
  {
   "cell_type": "code",
   "execution_count": 10,
   "metadata": {},
   "outputs": [
    {
     "data": {
      "text/html": [
       "<div>\n",
       "<style scoped>\n",
       "    .dataframe tbody tr th:only-of-type {\n",
       "        vertical-align: middle;\n",
       "    }\n",
       "\n",
       "    .dataframe tbody tr th {\n",
       "        vertical-align: top;\n",
       "    }\n",
       "\n",
       "    .dataframe thead th {\n",
       "        text-align: right;\n",
       "    }\n",
       "</style>\n",
       "<table border=\"1\" class=\"dataframe\">\n",
       "  <thead>\n",
       "    <tr style=\"text-align: right;\">\n",
       "      <th></th>\n",
       "      <th>path</th>\n",
       "      <th>label</th>\n",
       "    </tr>\n",
       "  </thead>\n",
       "  <tbody>\n",
       "    <tr>\n",
       "      <th>0</th>\n",
       "      <td>../../train/audio/bed/c245d3d7_nohash_0.wav</td>\n",
       "      <td>bed</td>\n",
       "    </tr>\n",
       "    <tr>\n",
       "      <th>1</th>\n",
       "      <td>../../train/audio/bed/a1a59b72_nohash_0.wav</td>\n",
       "      <td>bed</td>\n",
       "    </tr>\n",
       "    <tr>\n",
       "      <th>2</th>\n",
       "      <td>../../train/audio/bed/89f3ab7d_nohash_1.wav</td>\n",
       "      <td>bed</td>\n",
       "    </tr>\n",
       "    <tr>\n",
       "      <th>3</th>\n",
       "      <td>../../train/audio/bed/35c8fa78_nohash_1.wav</td>\n",
       "      <td>bed</td>\n",
       "    </tr>\n",
       "    <tr>\n",
       "      <th>4</th>\n",
       "      <td>../../train/audio/bed/1706c35f_nohash_0.wav</td>\n",
       "      <td>bed</td>\n",
       "    </tr>\n",
       "  </tbody>\n",
       "</table>\n",
       "</div>"
      ],
      "text/plain": [
       "                                          path label\n",
       "0  ../../train/audio/bed/c245d3d7_nohash_0.wav   bed\n",
       "1  ../../train/audio/bed/a1a59b72_nohash_0.wav   bed\n",
       "2  ../../train/audio/bed/89f3ab7d_nohash_1.wav   bed\n",
       "3  ../../train/audio/bed/35c8fa78_nohash_1.wav   bed\n",
       "4  ../../train/audio/bed/1706c35f_nohash_0.wav   bed"
      ]
     },
     "execution_count": 10,
     "metadata": {},
     "output_type": "execute_result"
    }
   ],
   "source": [
    "train_file_map.head()"
   ]
  },
  {
   "cell_type": "code",
   "execution_count": 11,
   "metadata": {},
   "outputs": [],
   "source": [
    "train_file_map[\"nlabel\"]=''    "
   ]
  },
  {
   "cell_type": "code",
   "execution_count": 12,
   "metadata": {},
   "outputs": [],
   "source": [
    "for index,row in train_file_map.iterrows():\n",
    "    if row[\"label\"] in target_word_list:\n",
    "        row[\"nlabel\"]=row[\"label\"]\n",
    "    elif row[\"label\"]=='_background_noise_':\n",
    "        row[\"nlabel\"]='silence'\n",
    "    else:\n",
    "        row[\"nlabel\"]='unknown'"
   ]
  },
  {
   "cell_type": "code",
   "execution_count": 13,
   "metadata": {},
   "outputs": [
    {
     "data": {
      "text/html": [
       "<div>\n",
       "<style scoped>\n",
       "    .dataframe tbody tr th:only-of-type {\n",
       "        vertical-align: middle;\n",
       "    }\n",
       "\n",
       "    .dataframe tbody tr th {\n",
       "        vertical-align: top;\n",
       "    }\n",
       "\n",
       "    .dataframe thead th {\n",
       "        text-align: right;\n",
       "    }\n",
       "</style>\n",
       "<table border=\"1\" class=\"dataframe\">\n",
       "  <thead>\n",
       "    <tr style=\"text-align: right;\">\n",
       "      <th></th>\n",
       "      <th>path</th>\n",
       "      <th>label</th>\n",
       "      <th>nlabel</th>\n",
       "    </tr>\n",
       "  </thead>\n",
       "  <tbody>\n",
       "    <tr>\n",
       "      <th>0</th>\n",
       "      <td>../../train/audio/bed/c245d3d7_nohash_0.wav</td>\n",
       "      <td>bed</td>\n",
       "      <td>unknown</td>\n",
       "    </tr>\n",
       "    <tr>\n",
       "      <th>1</th>\n",
       "      <td>../../train/audio/bed/a1a59b72_nohash_0.wav</td>\n",
       "      <td>bed</td>\n",
       "      <td>unknown</td>\n",
       "    </tr>\n",
       "    <tr>\n",
       "      <th>2</th>\n",
       "      <td>../../train/audio/bed/89f3ab7d_nohash_1.wav</td>\n",
       "      <td>bed</td>\n",
       "      <td>unknown</td>\n",
       "    </tr>\n",
       "    <tr>\n",
       "      <th>3</th>\n",
       "      <td>../../train/audio/bed/35c8fa78_nohash_1.wav</td>\n",
       "      <td>bed</td>\n",
       "      <td>unknown</td>\n",
       "    </tr>\n",
       "    <tr>\n",
       "      <th>4</th>\n",
       "      <td>../../train/audio/bed/1706c35f_nohash_0.wav</td>\n",
       "      <td>bed</td>\n",
       "      <td>unknown</td>\n",
       "    </tr>\n",
       "  </tbody>\n",
       "</table>\n",
       "</div>"
      ],
      "text/plain": [
       "                                          path label   nlabel\n",
       "0  ../../train/audio/bed/c245d3d7_nohash_0.wav   bed  unknown\n",
       "1  ../../train/audio/bed/a1a59b72_nohash_0.wav   bed  unknown\n",
       "2  ../../train/audio/bed/89f3ab7d_nohash_1.wav   bed  unknown\n",
       "3  ../../train/audio/bed/35c8fa78_nohash_1.wav   bed  unknown\n",
       "4  ../../train/audio/bed/1706c35f_nohash_0.wav   bed  unknown"
      ]
     },
     "execution_count": 13,
     "metadata": {},
     "output_type": "execute_result"
    }
   ],
   "source": [
    "train_file_map.head()"
   ]
  },
  {
   "cell_type": "code",
   "execution_count": 14,
   "metadata": {},
   "outputs": [],
   "source": [
    "targets_to_keep = ['yes', 'no', 'up', 'down', 'left',\n",
    "                   'right', 'on', 'off', 'stop', 'go', 'silence']\n",
    "train_file_map['target'] = train_file_map['nlabel']\n",
    "train_file_map['target'] = train_file_map['target'].apply(\n",
    "    lambda x: x if x in targets_to_keep else 'unknown')\n",
    "label_to_ix = {\n",
    "    'unknown': 11,\n",
    "    'silence': 0,\n",
    "    'down': 1,\n",
    "    'go': 2,\n",
    "    'left': 3,\n",
    "    'no': 4,\n",
    "    'off': 5,\n",
    "    'on': 6,\n",
    "    'right': 7,\n",
    "    'stop': 8,\n",
    "    'up': 9,\n",
    "    'yes': 10}\n",
    "ix_to_label ={\n",
    "    11: 'unknown',\n",
    "    0: 'silence',\n",
    "    1: 'down',\n",
    "    2: 'go',\n",
    "    3: 'left',\n",
    "    4: 'no',\n",
    "    5: 'off',\n",
    "    6: 'on',\n",
    "    7: 'right',\n",
    "    8: 'stop',\n",
    "    9: 'up',\n",
    "    10: 'yes'\n",
    "}\n",
    "train_file_map['label'] = train_file_map['target'].apply(lambda x: label_to_ix[x])"
   ]
  },
  {
   "cell_type": "code",
   "execution_count": 15,
   "metadata": {},
   "outputs": [],
   "source": [
    "train_file_map=train_file_map.drop(columns=\"nlabel\")"
   ]
  },
  {
   "cell_type": "code",
   "execution_count": 16,
   "metadata": {},
   "outputs": [
    {
     "data": {
      "text/html": [
       "<div>\n",
       "<style scoped>\n",
       "    .dataframe tbody tr th:only-of-type {\n",
       "        vertical-align: middle;\n",
       "    }\n",
       "\n",
       "    .dataframe tbody tr th {\n",
       "        vertical-align: top;\n",
       "    }\n",
       "\n",
       "    .dataframe thead th {\n",
       "        text-align: right;\n",
       "    }\n",
       "</style>\n",
       "<table border=\"1\" class=\"dataframe\">\n",
       "  <thead>\n",
       "    <tr style=\"text-align: right;\">\n",
       "      <th></th>\n",
       "      <th>path</th>\n",
       "      <th>label</th>\n",
       "      <th>target</th>\n",
       "    </tr>\n",
       "  </thead>\n",
       "  <tbody>\n",
       "    <tr>\n",
       "      <th>64722</th>\n",
       "      <td>../../train/audio/zero/2ad772d6_nohash_1.wav</td>\n",
       "      <td>11</td>\n",
       "      <td>unknown</td>\n",
       "    </tr>\n",
       "    <tr>\n",
       "      <th>64723</th>\n",
       "      <td>../../train/audio/zero/9ff2d2f4_nohash_0.wav</td>\n",
       "      <td>11</td>\n",
       "      <td>unknown</td>\n",
       "    </tr>\n",
       "    <tr>\n",
       "      <th>64724</th>\n",
       "      <td>../../train/audio/zero/30f31e42_nohash_0.wav</td>\n",
       "      <td>11</td>\n",
       "      <td>unknown</td>\n",
       "    </tr>\n",
       "    <tr>\n",
       "      <th>64725</th>\n",
       "      <td>../../train/audio/zero/37dca74f_nohash_1.wav</td>\n",
       "      <td>11</td>\n",
       "      <td>unknown</td>\n",
       "    </tr>\n",
       "    <tr>\n",
       "      <th>64726</th>\n",
       "      <td>../../train/audio/zero/0d393936_nohash_0.wav</td>\n",
       "      <td>11</td>\n",
       "      <td>unknown</td>\n",
       "    </tr>\n",
       "  </tbody>\n",
       "</table>\n",
       "</div>"
      ],
      "text/plain": [
       "                                               path  label   target\n",
       "64722  ../../train/audio/zero/2ad772d6_nohash_1.wav     11  unknown\n",
       "64723  ../../train/audio/zero/9ff2d2f4_nohash_0.wav     11  unknown\n",
       "64724  ../../train/audio/zero/30f31e42_nohash_0.wav     11  unknown\n",
       "64725  ../../train/audio/zero/37dca74f_nohash_1.wav     11  unknown\n",
       "64726  ../../train/audio/zero/0d393936_nohash_0.wav     11  unknown"
      ]
     },
     "execution_count": 16,
     "metadata": {},
     "output_type": "execute_result"
    }
   ],
   "source": [
    "train_file_map.tail()"
   ]
  },
  {
   "cell_type": "code",
   "execution_count": 17,
   "metadata": {},
   "outputs": [],
   "source": [
    "train_file_map.to_csv(\"train_file_map_csv.csv\", index=True)"
   ]
  },
  {
   "cell_type": "code",
   "execution_count": 18,
   "metadata": {},
   "outputs": [
    {
     "data": {
      "text/plain": [
       "array(['unknown', 'right', 'on', 'stop', 'no', 'off', 'silence', 'up',\n",
       "       'yes', 'go', 'left', 'down'], dtype=object)"
      ]
     },
     "execution_count": 18,
     "metadata": {},
     "output_type": "execute_result"
    }
   ],
   "source": [
    "train_file_map[\"target\"].unique()"
   ]
  },
  {
   "cell_type": "code",
   "execution_count": 19,
   "metadata": {},
   "outputs": [
    {
     "name": "stderr",
     "output_type": "stream",
     "text": [
      "/home/ubuntu/anaconda3/envs/tensorflow_p36/lib/python3.6/site-packages/scipy/io/wavfile.py:273: WavFileWarning: Chunk (non-data) not understood, skipping it.\n",
      "  WavFileWarning)\n"
     ]
    }
   ],
   "source": [
    "new_sample_rate=16000\n",
    "y_train = []\n",
    "x_train = []\n",
    "for i in range(train_file_map.shape[0]):\n",
    "    sample_rate, samples = wavfile.read(train_file_map[\"path\"][i])\n",
    "    samples = pad_audio(samples)\n",
    "    if len(samples) > 16000:\n",
    "        n_samples = chop_audio(samples)\n",
    "    else: n_samples = [samples]\n",
    "    for samples in n_samples:\n",
    "        resampled = signal.resample(samples, int(new_sample_rate / sample_rate * samples.shape[0]))\n",
    "        _, _, specgram = log_specgram(resampled, sample_rate=new_sample_rate)\n",
    "        y_train.append(train_file_map[\"label\"][i])\n",
    "        x_train.append(specgram)\n",
    "x_train = np.array(x_train)\n",
    "x_train = x_train.reshape(tuple(list(x_train.shape)+[1]))\n",
    "y_train= np.array(y_train)"
   ]
  },
  {
   "cell_type": "code",
   "execution_count": 20,
   "metadata": {},
   "outputs": [
    {
     "name": "stdout",
     "output_type": "stream",
     "text": [
      "min:  -23.02585 \n",
      "max:  16.476927 \n",
      "mean:  -3.101561 \n",
      "median:  -3.2602808 \n",
      "variance:  36.329456\n"
     ]
    }
   ],
   "source": [
    "print('min: ',np.min(x_train), \n",
    "      '\\nmax: ', np.max(x_train), \n",
    "      '\\nmean: ', np.mean(x_train),\n",
    "      '\\nmedian: ', np.median(x_train),\n",
    "      '\\nvariance: ', np.var(x_train))"
   ]
  },
  {
   "cell_type": "code",
   "execution_count": 22,
   "metadata": {},
   "outputs": [],
   "source": [
    "np.save('../../train/x_train.npy', x_train)\n",
    "np.save('../../train/y_train.npy', y_train.astype(np.int))"
   ]
  },
  {
   "cell_type": "code",
   "execution_count": null,
   "metadata": {},
   "outputs": [],
   "source": []
  }
 ],
 "metadata": {
  "kernelspec": {
   "display_name": "Environment (conda_tensorflow_p36)",
   "language": "python",
   "name": "conda_tensorflow_p36"
  },
  "language_info": {
   "codemirror_mode": {
    "name": "ipython",
    "version": 3
   },
   "file_extension": ".py",
   "mimetype": "text/x-python",
   "name": "python",
   "nbconvert_exporter": "python",
   "pygments_lexer": "ipython3",
   "version": "3.6.5"
  }
 },
 "nbformat": 4,
 "nbformat_minor": 2
}
